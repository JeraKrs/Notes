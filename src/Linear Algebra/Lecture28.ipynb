{
 "cells": [
  {
   "cell_type": "markdown",
   "metadata": {},
   "source": [
    "# 第二十八讲 正定矩阵和最小值\n",
    "\n",
    "正定矩阵（Positive Definite Matrix）可以通过几个方式判定，对于一个二阶矩阵 $A = \\begin{bmatrix}a & b \\\\ b & d \\end{bmatrix}$：\n",
    "1. 矩阵的所有特征值大于零，即 $\\lambda_1 > 0, \\lambda_2 > 0$。\n",
    "2. 矩阵的所有顺序主子阵（Leading Principal Submatrix）的行列式均大于零，即 $a > 0, ac - b^2 > 0$。\n",
    "3. 矩阵消元后的主元均大于零，即 $a > 0, \\frac{ac - b^2}{a} > 0$。\n",
    "4. $x^TAx > 0$。\n",
    "\n",
    "一般第四条为正定矩阵的定义，前三条用于验证正定性。\n",
    "\n",
    "例子：$A = \\begin{bmatrix}2 & 6 \\\\ 6 & y \\end{bmatrix}$\n",
    "\n",
    "* 当 $y = 18$ 时：矩阵 $A$ 是一个半正定矩阵（Positive Semi-definite Matrix），因为 $detA = 0$，矩阵为奇异矩阵，所以有一个特征值为零，$\\lambda_1 = 0, \\lambda_2 = 20$（半正定矩阵的特征值大于等于零）。\n",
    "* 当 $y = 7$ 时：矩阵 $A$ 不是一个正定矩阵，此时 $\\begin{bmatrix} x_1 & x_2 \\end{bmatrix}\\begin{bmatrix}2 & 6 \\\\ 6 & 7 \\end{bmatrix}\\begin{bmatrix}x_1 \\\\ x_2\\end{bmatrix} = 2x_1^2 + 12x_1x_2 + 7x_2^2$，当 $x_1 = 1, x_2 = -1$，$x^TAx < 0$。\n",
    "* 当 $y = 20$ 时：矩阵 $A$ 为一个正定矩阵，$\\begin{bmatrix} x_1 & x_2 \\end{bmatrix}\\begin{bmatrix}2 & 6 \\\\ 6 & 20 \\end{bmatrix}\\begin{bmatrix}x_1 \\\\ x_2\\end{bmatrix} = 2x_1^2 + 12x_1x_2 + 20x_2^2 = 2(x+3y)^2+2y^2 ≥ 0$。\n",
    "\n",
    "在微积分中，一元函数取极小值需要一阶导数为零且二阶导数为正，即 $\\frac{du}{dx}=0, \\frac{d^2u}{dx^2}>0$，在线性代数中我们遇到的多元函数$f(x_1, x_2, \\dots, x_n)$，要取极小值需要二阶偏导数矩阵为正定矩阵，即 $\\begin{bmatrix}f_{xx} & f_{xy} \\\\ f_{yx} & f_{yy}\\end{bmatrix}$。显然，矩阵中的主对角线元素必须为正，并且可以抵消混合导数的影响。因为二阶导数的求导次序并不影响结果，所以矩阵一定是对称的。"
   ]
  },
  {
   "cell_type": "markdown",
   "metadata": {},
   "source": [
    "再来看一个三阶矩阵 $A = \\begin{bmatrix}2 & -1 & 0 \\\\ -1 & 2 & -1 \\\\ 0 & -1 & 2\\end{bmatrix}$，此时的顺序主子阵的行列式有 $dets = 2, 3, 4$，主元有 $2, \\frac{3}{2}, \\frac{4}{3}$，特征值有 $2 - \\sqrt{2}, 2, 2 + \\sqrt{2}$。\n",
    "\n",
    "计算 $x^TAx=2x^2_1+2x^2_2+2x^2_3−2x_1x_2−2x_2x_3$，图像是四维的抛物面，并且在 $f(x_1, x_2,x_3)=1$ 处的截面是一个椭圆体。一般椭圆体有三条轴，特征值的大小决定了三条轴的长度，而特征向量的方向与三条轴的方向相同。\n",
    "\n",
    "现在我们将矩阵 $A$ 分解为 $A=Q\\Lambda Q^T$ 可以发现上面说到的各种元素都可以表示在这个分解的矩阵中，我们称之为主轴定理（Principal Axis Theorem），即特征向量说明主轴的方向、特征值说明主轴的长度。"
   ]
  },
  {
   "cell_type": "code",
   "execution_count": null,
   "metadata": {
    "collapsed": true
   },
   "outputs": [],
   "source": []
  }
 ],
 "metadata": {
  "kernelspec": {
   "display_name": "Python 3",
   "language": "python",
   "name": "python3"
  },
  "language_info": {
   "codemirror_mode": {
    "name": "ipython",
    "version": 3
   },
   "file_extension": ".py",
   "mimetype": "text/x-python",
   "name": "python",
   "nbconvert_exporter": "python",
   "pygments_lexer": "ipython3",
   "version": "3.6.2"
  }
 },
 "nbformat": 4,
 "nbformat_minor": 2
}
