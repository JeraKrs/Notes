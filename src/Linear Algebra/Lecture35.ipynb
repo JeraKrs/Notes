{
 "cells": [
  {
   "cell_type": "markdown",
   "metadata": {
    "collapsed": true
   },
   "source": [
    "# 第三十五讲 期末复习\n",
    "\n",
    "**问题1**：对于给定矩阵 $A$ 有 $Ax = \\begin{bmatrix}1 \\\\ 0 \\\\ 0\\end{bmatrix}$ 无解，$Ax = \\begin{bmatrix}0 \\\\ 1 \\\\ 0\\end{bmatrix}$ 有唯一解。\n",
    "1. $m, n, r$ 的取值。\n",
    "2. 给出一个满足要求的矩阵 $A$。\n",
    "3. $det(A^TA) = det(AA^T)$？\n",
    "4. $A^TA$ 是否可逆？\n",
    "5. $AA^T$ 是否为正定矩阵？\n",
    "6. 求证 $A^Ty=c$ 至少有一个解？\n",
    "\n",
    "*解答*：\n",
    "1. $Ax = \\begin{bmatrix}1 \\\\ 0 \\\\ 0\\end{bmatrix}$ 无解可得 $r < m$，$Ax = \\begin{bmatrix}0 \\\\ 1 \\\\ 0\\end{bmatrix}$ 有唯一解可得 $r = n$。又已知 $m=3$，所以有 $0 < n = r < m = 3$。\n",
    "2. $A = \\begin{bmatrix}0 \\\\ 1 \\\\ 0\\end{bmatrix}, \\begin{bmatrix}0 & 0 \\\\ 1 & 0 \\\\ 0 & 1\\end{bmatrix}$。\n",
    "3. 不相等，因为矩阵 $A^TA$ 可逆，而 $AA^T$ 不可逆，但是对于任意方阵 $A, B$，有 $det(AB) = det(BA)$ 恒成立。\n",
    "4. 可逆，因为 $r = n$，所以矩阵的列向量线性无关。\n",
    "5. 否，$AA^T$ 为 $3 * 3$ 的矩阵，而矩阵的秩为2。\n",
    "6. 因为 $n=r$ ，即矩阵行满秩，所以 $A^Ty$ 有解。又因 $dimN(A^T) = m - r > 0$，所以零空间存在。综上，$A^Ty=c$ 有无穷多解。"
   ]
  },
  {
   "cell_type": "markdown",
   "metadata": {},
   "source": [
    "**问题2**：$A = \\begin{bmatrix}v_1 & v_2 & v_3\\end{bmatrix}$\n",
    "1. 求解 $Ax = v_1 - v_2 + v_3$。\n",
    "2. 如果 $v_1 - v_2 + v_3 = 0$，是否解唯一？\n",
    "3. 如果 $v_1, v_2, v_3$ 正交，那么 $c_1v_1 + c_2v_2$ 在 $c_1, c_2$ 取何值，最接近 $v_3$。\n",
    "\n",
    "*解答*：\n",
    "1. $x = \\begin{bmatrix}1 \\\\ -1 \\\\ 1\\end{bmatrix}$。\n",
    "2. 因为 $x$ 在零空间上，所以解不唯一。\n",
    "3. 由于是正交向量，所以只有 $0$ 向量最接近 $v_3$。"
   ]
  },
  {
   "cell_type": "markdown",
   "metadata": {},
   "source": [
    "**问题3**：矩阵 $A = \\begin{bmatrix}0.2 & 0.4 & 0.3 \\\\ 0.4 & 0.2 & 0.3 \\\\ 0.4 & 0.4 & 0.4\\end{bmatrix}$，$u(0) = \\begin{bmatrix}0 \\\\ 10 \\\\ 0\\end{bmatrix}$，$u(t) = A^ku(0)$，求稳态。\n",
    "\n",
    "*解答*：首先求解矩阵特征值，$\\lambda_1 = 0, \\lambda_2 = 1, \\lambda_3 = -0.2$，因为 $u(t) = c_1\\lambda_1^{k_1}x_1 + c_2\\lambda_2^{k_2}x_2 + c_3\\lambda_3^{k_3}x_3$，当 $k \\rightarrow \\infty$，有 $u_{\\infty} = c_2x_2$。"
   ]
  },
  {
   "cell_type": "markdown",
   "metadata": {},
   "source": [
    "**问题4**：\n",
    "1. 矩阵 $a = \\begin{bmatrix}4 \\\\ -3\\end{bmatrix}$ 的投影矩阵。\n",
    "2. 给定特征值和特征向量 $0, \\begin{bmatrix}1 \\\\ 2\\end{bmatrix}$ 和 $3, \\begin{bmatrix}2 \\\\ 1\\end{bmatrix}$，求矩阵。\n",
    "3. 矩阵 $A$ 是否可以分解称 $B^TB$？\n",
    "\n",
    "*解答*：\n",
    "1. $P = \\frac{aa^T}{a^Ta}$\n",
    "2. $A = S\\Lambda S^{-1} = \\begin{bmatrix}1 & 2 \\\\ 2 & 1\\end{bmatrix}\\begin{bmatrix} 0 & 0 \\\\ 0 & 3\\end{bmatrix}\\begin{bmatrix}1 & 2 \\\\ 2 & 1\\end{bmatrix}^{-1}$\n",
    "3. 否，$B^TB$ 一定是一个对称矩阵，如果 $A$ 不是对称矩阵，则不能分解。"
   ]
  },
  {
   "cell_type": "markdown",
   "metadata": {},
   "source": [
    "**问题5**：$\\begin{bmatrix}1 & 0 \\\\ 1 & 1 \\\\ 1 & 2\\end{bmatrix}\\begin{bmatrix}\\hat{c} \\\\ \\hat{d}\\end{bmatrix} = \\begin{bmatrix}3 & 4 & 1\\end{bmatrix}$。\n",
    "1. 求 $\\hat{c}, \\hat{d}$。\n",
    "2. 求 $b$ 使得 $\\begin{bmatrix}\\hat{c} \\\\ \\hat{d}\\end{bmatrix} = \\begin{bmatrix}0 \\\\ 0\\end{bmatrix}$\n",
    "\n",
    "*解答*：\n",
    "1. $\\hat{c} = \\frac{11}{3}, \\hat{d} = -1$。\n",
    "2. $b = \\begin{bmatrix}1 \\\\ -2 \\\\ 1\\end{bmatrix}$。"
   ]
  }
 ],
 "metadata": {
  "kernelspec": {
   "display_name": "Python 3",
   "language": "python",
   "name": "python3"
  },
  "language_info": {
   "codemirror_mode": {
    "name": "ipython",
    "version": 3
   },
   "file_extension": ".py",
   "mimetype": "text/x-python",
   "name": "python",
   "nbconvert_exporter": "python",
   "pygments_lexer": "ipython3",
   "version": "3.6.2"
  }
 },
 "nbformat": 4,
 "nbformat_minor": 2
}
