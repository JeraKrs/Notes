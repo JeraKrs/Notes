{
 "cells": [
  {
   "cell_type": "markdown",
   "metadata": {},
   "source": [
    "# 第三十三讲 单元检测3复习\n",
    "\n",
    "**问题1**：求解 $\\frac{du}{dt} = Au = \\begin{bmatrix}0 & -1 & 0 \\\\ 1 & 0 & -1 \\\\ 0 & 1 & 0 \\end{bmatrix}u$，其中 $u(t) = c_1e^{\\lambda_1t}x_1 + c_2e^{\\lambda_2t}x_2 + c_3e^{\\lambda_3t}x_3$。\n",
    "\n",
    "*解答*：求解矩阵 $A$ 的特征值，有 $\\lambda_1 = 0, \\lambda_2 = \\sqrt{2}i, \\lambda_3 = -\\sqrt{2}i$，所以有 $u(t) = c_1x_1 + c_2e^{\\sqrt{2}it}x_2 + c_3e^{-\\sqrt{2}it}x_3$。考虑 $u(t)$ 的周期性，有 $\\sqrt{2}iT = 2\\pi i \\Rightarrow T = \\sqrt{2} \\pi$。\n",
    "\n",
    "如果矩阵可以对角化，即 $A = S\\Lambda S^{-1}$，则有 $e^{At} = Se^{\\Lambda t}S^{-1}$。"
   ]
  },
  {
   "cell_type": "markdown",
   "metadata": {
    "collapsed": true
   },
   "source": [
    "**问题2**：给定矩阵 $A$ 的特征为 $\\lambda_1 = 0, \\lambda_2 = c, \\lambda_3 = 2$，和特征向量 $x_1 = \\begin{bmatrix}1 \\\\ 1 \\\\ 1\\end{bmatrix}, x_2 = \\begin{bmatrix}1 \\\\ -1 \\\\ 0\\end{bmatrix}, x_3 = \\begin{bmatrix}1 \\\\ 1 \\\\ -2\\end{bmatrix}$。\n",
    "\n",
    "1. $c$ 为何值时，矩阵 $A$ 可以被对角化？\n",
    "2. $c$ 为何值时，矩阵 $A$ 为对称矩阵？\n",
    "3. $c$ 为何值时，矩阵 $A$ 具有正定性？\n",
    "4. $c$ 为何值时，矩阵 $A$ 为马尔科夫矩阵？\n",
    "5. $c$ 为何值时，矩阵 $\\frac{A}{2}$ 为投影矩阵？\n",
    "\n",
    "\n",
    "*解答*：\n",
    "1. $c$ 取任意值，矩阵 $A$ 均可以被对角化，因为矩阵有三个正交的特征向量。\n",
    "2. 任意实数的 $c$。\n",
    "3. 不存在 $c$ 使得矩阵具有正定性，矩阵已经有一个为零的特征值。但是，当 $c \\geq 0$ 时，矩阵具有半正定性。\n",
    "4. 不存在，因为马尔科夫矩阵要求有一个为一的特征值，且其他特征值均小于一。\n",
    "5. $c = 0$ 或 $c = 2$ 时，因为投影矩阵需满足 $P^2 = P \\Rightarrow \\lambda^2 = \\lambda$。"
   ]
  },
  {
   "cell_type": "markdown",
   "metadata": {},
   "source": [
    "**问题3**：矩阵的奇异值分解，$A = U\\Sigma V^T$。\n",
    "\n",
    "*解答*：\n",
    "* 矩阵 $V$ 的每一列均为矩阵 $A^TA$ 的特征向量。\n",
    "* 矩阵 $U$ 的每一列均为矩阵 $AA^T$ 的特征向量。\n",
    "* 矩阵 $\\Sigma$ 的对角线元素的平方为矩阵 $A^TA$ 和 $AA^T$ 的特征向量。"
   ]
  },
  {
   "cell_type": "markdown",
   "metadata": {},
   "source": [
    "**问题4**：给定矩阵 $A$ 具有对称性和正交性。\n",
    "1. 特征值有什么特点？\n",
    "2. 矩阵 $A$ 是否具有正定性？\n",
    "3. 矩阵 $A$ 的特征值有没有重复吗？\n",
    "4. 矩阵 $A$ 可否被对角化？\n",
    "5. 矩阵 $A$ 是非奇异矩阵吗？\n",
    "6. 证明 $P=\\frac{1}{2}(A+I)$ 是投影矩阵？\n",
    "\n",
    "*解答*：\n",
    "1. 首先特征值均为实数，因为矩阵具有对称性，其次，特征值为 $1$ 或 $-1$，因为**正交矩阵不会改变向量长度**，所以有 $||Qx|| = ||\\lambda x|| \\Rightarrow ||x|| = ||\\lambda|| \\times ||x||$。\n",
    "2. 不一定，因为矩阵 $A$ 的特征值可以取负一。\n",
    "3. 不是的，因为矩阵的特征值只能取正负一，当矩阵的阶数大于 $2$ 时，特征值一定重复。\n",
    "4. 任何矩阵均可以被对角化。\n",
    "5. 是的，因为矩阵 $A$ 具有正交性，所以特征值均为不为零。\n",
    "6. 因为投影矩阵有 $P^2 = P$，所以有\n",
    "\n",
    "$$\\frac{1}{4}(A = I)^2 = \\frac{1}{2}(A + I)$$\n",
    "$$\\Rightarrow \\frac{1}{2}(A^2 + 2A + I^2 = A + I$$\n",
    "$$\\Rightarrow \\frac{1}{2}(I + 2A + I) = A + I$$\n",
    "$$\\Rightarrow A + I = A + I$$\n",
    "\n",
    "得证。"
   ]
  }
 ],
 "metadata": {
  "kernelspec": {
   "display_name": "Python 3",
   "language": "python",
   "name": "python3"
  },
  "language_info": {
   "codemirror_mode": {
    "name": "ipython",
    "version": 3
   },
   "file_extension": ".py",
   "mimetype": "text/x-python",
   "name": "python",
   "nbconvert_exporter": "python",
   "pygments_lexer": "ipython3",
   "version": "3.6.2"
  }
 },
 "nbformat": 4,
 "nbformat_minor": 2
}
