{
 "cells": [
  {
   "cell_type": "markdown",
   "metadata": {},
   "source": [
    "# 第二十二讲 对角化和A的幂\n",
    "\n",
    "## 对角化矩阵\n",
    "\n",
    "将矩阵 $A$ 的所有特征向量作为矩阵 $S$ 的列，那么 $$A * S = A \\begin{bmatrix}x_1 & x_2 & \\dots & x_n\\end{bmatrix} = \\begin{bmatrix}\\lambda_1x_1 & \\lambda_2x_2 & \\dots & \\lambda_nx_n\\end{bmatrix} = \\begin{bmatrix}x_1 & x_2 & \\dots & x_n \\end{bmatrix}\\begin{bmatrix} \\lambda_1 & 0 & \\dots & 0 \\\\ 0 & \\lambda_2 & \\dots & 0\\\\ \\vdots & \\vdots & \\ddots & \\vdots \\\\ 0 & 0 & \\dots & \\lambda_n\\end{bmatrix} = S\\Lambda$$\n",
    "\n",
    "其中 $\\Lambda$ 矩阵为对角线均为特征值，其它位置均为零的对角矩阵。因为 $AS = S\\Lambda$，所以有 $A = S\\Lambda S^{-1}$，这种分解称为**对角化**（Diagonalization）。对于特征值均不相同的矩阵，才可以对角化。\n",
    "\n",
    "结合之前的章节，现在一共有 $3$ 中矩阵的分解：\n",
    "* 消元，$A = LU$\n",
    "* 正交，$A = QR$\n",
    "* 对角化，$A = S\\Lambda S^{-1}$"
   ]
  },
  {
   "cell_type": "markdown",
   "metadata": {},
   "source": [
    "## A的幂\n",
    "\n",
    "现在来看矩阵的平方 $A^2$，如果 $Ax = \\lambda x$，那么 $A^2x = \\lambda Ax = \\lambda^2x$；如果将矩阵进行对角化， $A = S\\Lambda S^{-1}$，那么 $A^2 = S\\Lambda S^{-1}S\\Lambda S^{-1} = S \\Lambda^2S^{-1}$；推广到矩阵的 $k$ 次幂，有 $A^k = S\\Lambda^{k}S^{-1}$。\n",
    "\n",
    "定理：如果矩阵所有的 $\\lambda < 1$，那么当 $k \\rightarrow \\infty$ 时，$A^k \\rightarrow 0$\n",
    "\n",
    "注意：以上所有的结论都建立在矩阵没有相等的特征值。"
   ]
  },
  {
   "cell_type": "markdown",
   "metadata": {},
   "source": [
    "## 求解$u_{k+1} = Au_k$\n",
    "\n",
    "假设有序列，首项为 $u_0$，序列每项满足 $u_{k+1} = Au_{k}$。首先将 $u_0$ 展开为矩阵 $A$ 特征向量的线性组合，即 $u_0 = c_1x_1 + c_2x_2 + \\dots + c_nx_n$，其中 $x_i$ 为矩阵 $A$ 的特征向量。那么 $Au_0 = c_1\\lambda_1x_1 + \\dots + c_n\\lambda_nx_n = \\Lambda Sc$，推广到 $k$ 次幂有 $A^ku_0 = c_1\\lambda_1^kx_1 + \\dots + c_n\\lambda_n^kx_n = \\Lambda^kSc$。\n",
    "\n",
    "例题：以斐波那契数列为例，数列首项 $F_0 = 0$，第二项 $F_1 = 1$，而第 $k$ 项满足 $F_k = F_{k-2} + F_{k-1}$，那么现在设 $$u_k = \\begin{bmatrix}F_{k+1} \\\\ F_k \\end{bmatrix}, u_{k+1} = \\begin{bmatrix} F_{k+2} \\\\ F_{k+1} \\end{bmatrix} = \\begin{bmatrix} F_{k+1} + F_{k} \\\\ F_{k}\\end{bmatrix}$$\n",
    "\n",
    "因此有 $A = \\begin{bmatrix} 1 & 1 \\\\ 1 & 0\\end{bmatrix}$，其中特征值有 $\\lambda_1 = \\frac{1 + \\sqrt{5}}{2}, \\lambda_2 = \\frac{1 - \\sqrt{5}}{2}$，特征向量 $x_1 = \\begin{bmatrix} \\frac{1 + \\sqrt{5}}{2} \\\\ 1\\end{bmatrix}, x_2 = \\begin{bmatrix} \\frac{1 - \\sqrt{5}}{2} \\\\ 1\\end{bmatrix}$。然后，我们需要将 $u_0$ 分解为 $c_1x_1 + c_2x_2 = \\frac{\\sqrt{5}}{5}\\frac{1 + \\sqrt{5}}{2} - \\frac{\\sqrt{5}}{5}\\frac{1 - \\sqrt{5}}{2}$。通解形式有 $u_k=c_1\\lambda_1^kx_1+c_2\\lambda_2^kx_2$。"
   ]
  },
  {
   "cell_type": "code",
   "execution_count": null,
   "metadata": {
    "collapsed": true
   },
   "outputs": [],
   "source": []
  }
 ],
 "metadata": {
  "kernelspec": {
   "display_name": "Python 3",
   "language": "python",
   "name": "python3"
  },
  "language_info": {
   "codemirror_mode": {
    "name": "ipython",
    "version": 3
   },
   "file_extension": ".py",
   "mimetype": "text/x-python",
   "name": "python",
   "nbconvert_exporter": "python",
   "pygments_lexer": "ipython3",
   "version": "3.6.2"
  }
 },
 "nbformat": 4,
 "nbformat_minor": 2
}
