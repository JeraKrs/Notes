{
 "cells": [
  {
   "cell_type": "markdown",
   "metadata": {},
   "source": [
    "# 第八讲 求解Ax=b：可解性和解的结构\n",
    "\n",
    "对于求解方程 $Ax = b$ 而言，只有在 $b$ 落在矩阵 $A$ 的列向量空间时，方程有解，即 $b \\in C(A)$。或者说如果 $A$ 的各行线性组合得到 $0$ 行，则 $b$ 端分量做同样的线性组合，结果也为 $0$ 时，方程才有解。\n",
    "\n",
    "举例：现有 $A = \\begin{bmatrix} 1 & 2 & 2 & 2 \\\\ 2 & 4 & 6 & 8 \\\\ 3 & 6 & 8 & 10 \\end{bmatrix}$，$b = \\begin{bmatrix} b_1 \\\\ b_2 \\\\ b_3 \\end{bmatrix}$，所以有增广矩阵 $\\begin{bmatrix} 1 & 2 & 2 & 2 & b_1 \\\\ 2 & 4 & 6 & 8 & b_2 \\\\ 3 & 6 & 8 & 10 & b_3 \\end{bmatrix}$，进行消元后 $\\begin{bmatrix} 1 & 2 & 2 & 2 & b_1 \\\\ 0 & 0 & 2 & 4 & b_2 - b_1 \\\\ 0 & 0 & 0 & 0 & b_3 - b_2 - b_1 \\end{bmatrix}$，当 $b_3 = b_2 + b_1$ 时，方程组有解。\n",
    "\n",
    "**特解**：在矩阵消元后，令所有自由变量等于零，求出的解即为特解，记作 $x_{particular}$。**所有解**：将特解加上零空间后，得到的即为所有解，记作 $x_{complete}$。\n",
    "\n",
    "矩阵的秩和解之间的关系：\n",
    "\n",
    "首先对于一个 $m * n$ 的矩阵 $A$ 而言，它的的秩小于等于 $m$ 和 $n$，即 $r ≤ m$，$r ≤ n$。\n",
    "\n",
    "* 列满秩（Full Column Rank），即 $r = n < m$，此时没有自由变量，$R = \\begin{bmatrix} I \\\\ 0 \\end{bmatrix}$，零空间 $N(A) = \\{0\\}$；而 $Ax = b$ 的解个数为 0 或 1。\n",
    "* 行满秩（Full Row Rank），即 $r = m < n$，此时 $R = \\begin{bmatrix} I & F \\end{bmatrix}$，而 $Ax = b$ 的解个数为无穷个。\n",
    "* 行列满秩，即 $r = m = n$，此时 $R = I$，而 $Ax = b$ 有唯一解。\n",
    "* 行列不满秩，即 $r < m, r < n$，此时 $R = \\begin{bmatrix} I & F \\\\  0 & 0 \\end{bmatrix}$，而 $Ax = b$ 的解个数为 0 或 无穷个。\n",
    "\n"
   ]
  },
  {
   "cell_type": "code",
   "execution_count": null,
   "metadata": {
    "collapsed": true
   },
   "outputs": [],
   "source": []
  }
 ],
 "metadata": {
  "kernelspec": {
   "display_name": "Python 3",
   "language": "python",
   "name": "python3"
  },
  "language_info": {
   "codemirror_mode": {
    "name": "ipython",
    "version": 3
   },
   "file_extension": ".py",
   "mimetype": "text/x-python",
   "name": "python",
   "nbconvert_exporter": "python",
   "pygments_lexer": "ipython3",
   "version": "3.6.2"
  }
 },
 "nbformat": 4,
 "nbformat_minor": 2
}
