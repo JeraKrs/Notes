{
 "cells": [
  {
   "cell_type": "markdown",
   "metadata": {},
   "source": [
    "# 第二十三讲 微分方程和$e^{At}$\n",
    "\n",
    "## 微分方程$\\frac{du}{dt} = Au$\n",
    "\n",
    "现有一阶（First-order）微分方程组：$\\left\\{\\begin{matrix} \\frac{du_1}{dt} & = & -u_1 & + 2u_2\\\\  \\frac{du_2}{dt} & = & u_1 & -2u_2 \\end{matrix}\\right.$，其中初始状态 $u(0) = \\begin{bmatrix}u_1 \\\\ u_2 \\end{bmatrix} = \\begin{bmatrix} 1 \\\\ 0 \\end{bmatrix}$，现在我们需要求解方程的一般形式 $u(t)$。\n",
    "\n",
    "首先，通过微分方程组可以得到系数矩阵 $A = \\begin{bmatrix} -1 & 2 \\\\ 1 & -2 \\end{bmatrix}$，并且该矩阵的特征值为 $\\left\\{\\begin{matrix} \\lambda_1 & = & 0\\\\  \\lambda_2 & = & -3 \\end{matrix}\\right.$，特征向量为 $\\left\\{\\begin{matrix} x_1 & = & \\begin{bmatrix} 2 \\\\ 1 \\end{bmatrix}  \\\\  x_2 & = & \\begin{bmatrix} 1 \\\\ -1 \\end{bmatrix} \\end{matrix}\\right.$。此时，解可以写成 $u(t) = c_1 e^{\\lambda_1 t} x_1 + c_2 e^{\\lambda_2 t}x_2$，这里可以进行检验，取 $u = \\lambda_1 e^{\\lambda_1 t}x_1$，有 $\\frac{du}{dt} = \\lambda_1 e^{\\lambda_1 t}x_1 = A e^{\\lambda_1 t}x_1 = Au$。\n",
    "\n",
    "接下来，通过 $u(0)$ 解出 $c_1 = \\frac{1}{3}, c_2=\\frac{1}{3}$。于是最终的解形式为 $u(t) = \\frac{1}{3}\\begin{bmatrix}2 \\\\ 1\\end{bmatrix} + \\frac{1}{3}e^{-3t}\\begin{bmatrix}1 \\\\ -1\\end{bmatrix}$，并且方程有一个稳定的状态 $u(\\infty) = \\frac{1}{3}\\begin{bmatrix}2 \\\\ 1\\end{bmatrix}$，因为当 $t \\rightarrow \\infty$ 时，$e^{-3t} \\rightarrow 0$。\n",
    "\n",
    "这里引入方程趋势和特征向之间的关系：\n",
    "* 稳定态（Stability）：方程的值最终会趋向于 $0$，即 $u(t) \\rightarrow 0$，这就要求 $e^{\\lambda t} \\rightarrow 0$，所以当所有的特征值的实数部分（虚数部分只是噪音）均小于 $0$ 时，方程具有稳定性。\n",
    "* 收敛态（Steady State）：方程最终收敛于某个值，此时需要有一个特征值为 $0$，而剩余的特征值全小于 $0$。\n",
    "* 发散态（Blowup）：如果存在一个特征值的实数部分大于零，那么函数不会收敛。\n",
    "\n",
    "小技巧：直接判断任意二阶矩阵的特征值是否均小于零。对于二阶矩阵 $A = \\begin{bmatrix} a & b \\\\ c & d \\end{bmatrix}$，特征值具有性质即 $\\lambda_1 + \\lambda_2 = a + d, \\lambda_1 * \\lambda_2 = detA = a * d - b * c$。如果特征向量均小于零，那么 $a + d < 0$ 且 $detA > 0$。\n",
    "\n",
    "总结：原方程组有两个相互耦合的未知函数，即 $u1,u2$ 相互耦合，而特征值和特征向量的作则就是解耦，也就是对角化。回到原方程 $\\frac{du}{dt} = Au$，如果将 $u$ 表示为特征向量的线性组合 $u=Sv$，那么有 $\\frac{du}{dt} = Au \\Rightarrow S\\frac{dv}{dt} = ASv \\Rightarrow \\frac{dv}{dt} = S^{-1}ASv = \\Lambda v$。此时新方程组线性无关 $\\left\\{\\begin{matrix} \\frac{dv_1}{dt} & = & \\lambda_1v1 \\\\  \\frac{dv_2}{dt} & = & \\lambda_2v_2 \\\\  & \\vdots & \\\\ \\frac{dv_n}{dt} & = & \\lambda_nv_n \\end{matrix}\\right.$，分向量的解形式为 $v(t) = e^{\\lambda t}v(0)$，而原方程的解形式为 $u(t)=Se^{\\Lambda t}S^{-1}u(0)$。"
   ]
  },
  {
   "cell_type": "markdown",
   "metadata": {},
   "source": [
    "## 指数矩阵$e^{At}$\n",
    "\n",
    "指数矩阵（Exponential Matrix）为指数部分的矩阵，例如 $e^{At}$。上个部分中用到结论 $e^{At} = Se^{\\Lambda t}S^{-1}$，这里给出证明。\n",
    "\n",
    "根据泰勒级数 $e^x = \\sum ^{\\infty}_{0} \\frac{x^n}{n!}$ 将 $e^{At}$ 展开，得 $$e^{At} = I + At + \\frac{(At)^2}{2} + \\dots + \\frac{(At)^n}{n!}$$\n",
    "$$e^{At} = I + At + \\frac{A^2}{2}t^2 + \\dots + \\frac{A^n}{n!}t^n$$\n",
    "$$e^{At} = SS^{-1} + S\\Lambda S^{1}t + S\\frac{\\Lambda^2}{2}S^{-1}t^2 + \\dots + S\\frac{\\Lambda^n}{n!}S^{-1}t^n$$\n",
    "$$e^{At} = S(I + \\Lambda t + \\frac{\\Lambda^2}{2}t^2 + \\dots + \\frac{\\Lambda^n}{n!}t^n)S^{-1}$$\n",
    "$$e^{At} = Se^{\\Lambda t}S^{-1}$$\n",
    "\n",
    "拓展：\n",
    "* 几何级数：$\\frac{1}{1-x} = \\sum^{\\infty}_{0} x^n$\n",
    "* 第二个泰勒级数：$ (I - At)^{-1} = I + At + (At)^2 + \\dots (At)^n)$\n",
    "\n"
   ]
  },
  {
   "cell_type": "markdown",
   "metadata": {},
   "source": [
    "## 高阶微分方程\n",
    "\n",
    "对于一个二阶（Second-order）微分方程 ${y}''+b{y}'+ky=0$，可以构造方程组 $\\left\\{\\begin{matrix}{y}'' & = & -b{y}' & -ky\\\\ {y}' & = & {y}' & \\end{matrix}\\right.$，写成矩阵形式有 $\\begin{bmatrix}{y}'' \\\\ {y}' \\end{bmatrix} = \\begin{bmatrix} -b & -k \\\\ 1 & 0 \\end{bmatrix}\\begin{bmatrix}{y}' \\\\ {y} \\end{bmatrix}$。\n",
    "\n",
    "拓展到五阶 ${y}'''''+b{y}''''+c{y}'''+d{y}''+ey′+fy=0$，矩阵形式有 $\\begin{bmatrix} {y}''''' \\\\ {y}'''' \\\\ {y}''' \\\\ {y}'' \\\\ {y}' \\end{bmatrix} = \\begin{bmatrix} -b & -c & -d & -e & -f \\\\ 1 & 0 & 0 & 0 & 0 \\\\ 0 & 1 & 0 & 0 & 0 \\\\ 0 & 0 & 1 & 0 & 0 \\\\ 0 & 0 & 0 & 1 & 0\\end{bmatrix}\\begin{bmatrix} {y}'''' \\\\ {y}''' \\\\ {y}'' \\\\ {y}' \\\\ y \\end{bmatrix}$。\n"
   ]
  },
  {
   "cell_type": "code",
   "execution_count": null,
   "metadata": {
    "collapsed": true
   },
   "outputs": [],
   "source": []
  }
 ],
 "metadata": {
  "kernelspec": {
   "display_name": "Python 3",
   "language": "python",
   "name": "python3"
  },
  "language_info": {
   "codemirror_mode": {
    "name": "ipython",
    "version": 3
   },
   "file_extension": ".py",
   "mimetype": "text/x-python",
   "name": "python",
   "nbconvert_exporter": "python",
   "pygments_lexer": "ipython3",
   "version": "3.6.2"
  }
 },
 "nbformat": 4,
 "nbformat_minor": 2
}
