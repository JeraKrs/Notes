{
 "cells": [
  {
   "cell_type": "markdown",
   "metadata": {},
   "source": [
    "# 第三讲 乘法和逆矩阵\n",
    "\n",
    "## 矩阵乘法\n",
    "\n",
    "矩阵乘法是指两个矩阵相乘得到一个新的矩阵，可表示为 $A * B = C$，如果矩阵 $A$ 为 $m * n$，矩阵 $B$ 为 $n * p$，则得到的矩阵 $C$ 为 $m * p$，注意两个矩阵可以相乘的条件是第一个矩阵的列数要等于第二个矩阵的行数。\n",
    "\n",
    "计算矩阵乘法有多种方法，首先是**常规法**（Regular Way），逐个计算结果矩阵中的每一项 $C_{i,j} = \\sum^{n}_{k} A_{i,k} * B_{k,j}$。\n",
    "\n",
    "第二个方法是**整行相乘**（the Row Way），因为矩阵 $C$ 的行是矩阵 $B$ 行的线性组合。假设现有 $3 * 3$ 的矩阵 $A$ 乘以 $3 * 4$ 的矩阵 $B$，则计算过程为：$$\\begin{bmatrix} a_{1,1} & a_{1,2} & a_{1,3} \\\\  b_{2,1} & b_{2,2} & b_{2,3} \\\\ c_{3,1} & c_{3,2} & c_{3,3} \\end{bmatrix} \\begin{bmatrix} row_1\\\\ row_2 \\\\ row_3 \\end{bmatrix} = \\begin{bmatrix} a_{1,1} * row_1 + a_{1,2} * row_2 + a_{1,3} * row_3 \\\\ a_{2,1} * row_1 + a_{2,2} * row_2 + a_{2,3} * row_3 \\\\ a_{3,1} * row_1 + a_{3,2} * row_2 + a_{3,3} * row_3 \\end{bmatrix}$$\n",
    "\n",
    "第三个方法是**整列相乘**（the Column Way），因为矩阵 $C$ 的列是矩阵 $A$ 列的线性组合。同样假设有 $3 * 3$ 的矩阵 $A$ 乘以 $3 * 4$ 的矩阵 $B$，则计算过程为：$$\\begin{bmatrix} col_1 & col_2 & col_3\\end{bmatrix}\\begin{bmatrix} b_{1,1} & b_{1,2} & b_{1,3} & b_{1,4} \\\\ b_{2,1} & b_{2,2} & b_{2,3} & b_{2,4} \\\\ b_{3,1} & b_{3,2} & b_{3,3} & b_{3,4}\\end{bmatrix} = \\begin{bmatrix} col_1b_{1,1} & col_1b_{1,2}  & col_1b_{1,3} & col_1b_{1,4} \\\\ + & + & + & + \\\\ col_2b_{2,1} & col_2b_{2,2} & col_2b_{2,3}  & col_2b_{2,4}\\\\ + & + & + & + \\\\ col_3b_{3,1} & col_3b_{3,2} & col_3b_{3,3}  & col_3b_{3,4}\\end{bmatrix}$$\n",
    "\n",
    "第四个方法为**列行相乘**（Columns Times Rows Way），一个 $3 * 1$ 的列乘以一个 $1 * 4$ 的行会得到一个 $3 * 4$ 的矩阵，如果把矩阵 $A$ 看成三个 $3 * 1$ 的列，将矩阵 $B$ 看成三个 $1 * 4$ 的行，则计算过程有：$$\\begin{bmatrix} col_1 & col_2 & col_3  \\end{bmatrix} \\begin{bmatrix} row_1 \\\\ row_2 \\\\ row_3 \\end{bmatrix} = col_1row_1 + col_2row_2 + col_3row_3$$\n",
    "\n",
    "最后一个方法为**分块法**（Block Multiplication），将矩阵 $A$ 和矩阵 $B$ 分成若干的小相等的矩阵，然后按照常规法的规则相乘后相加：$$\\begin{bmatrix} A_1 & A_2 \\\\ A_3 & A_4 \\end{bmatrix} \\begin{bmatrix} B_1 & B_2 \\\\ B_3 & B_4 \\end{bmatrix} = \\begin{bmatrix} A_1 * B_1 + A_2 * B_3 & A_1 * B_2 + A_2 * B_4\\\\ A_3 * B_1 + A_4 * B_3 & A_3 * B_2 + A_4 * B_4\\end{bmatrix}$$"
   ]
  },
  {
   "cell_type": "markdown",
   "metadata": {},
   "source": [
    "## 逆矩阵\n",
    "\n",
    "**逆矩阵**（Inverses Matrix），给定一个 $n$ 阶方阵 $A$，如果存在一个矩阵 $B$ 使得 $A*B = B*A = I$，其中矩阵 $I$ 为一个 $n$ 阶单位矩阵，则称矩阵 $B$ 为矩阵 $A$ 的逆矩阵，记作 $A^{-1}$。注意，$n$ 阶**单位矩阵**（Identity Matrix）是一个 $n*n$ 且对角线元素全为 $1$，其它元素均为 $0$ 的方阵。我们一般考虑方阵的逆矩阵，但不是所有的方阵都有逆矩阵。对于有逆矩阵的方阵而言，左逆是和右逆相等的。对于有逆矩阵的非方阵而言，左逆和右逆是不相等的。\n",
    "\n",
    "这里引入一个概念为奇异矩阵（Singular Matrix）和非奇异矩阵（Unsingular Matrix），奇异矩阵为**行列式**不为零的方阵（后面会讲到行列式的求法），对于非方阵而言不考虑矩阵的奇异性。而对于非奇异矩阵而言，是没有逆矩阵的。\n",
    "\n",
    "考虑方阵没有逆矩阵的情况，如果存在一个向量 $x$ 使得 $Ax=0$，那么矩阵 $A$ 则没有逆矩阵。证明：$Ax = 0 \\Rightarrow A^{-1} (Ax) = A^{-1} * 0 = 0 \\Rightarrow Ix = 0$，但是任何矩阵乘以单位矩阵都等于其本身，即 $Ix = x$。\n",
    "\n",
    "### 高斯-若尔当\n",
    "\n",
    "高斯诺尔当（Gaussian Jordan）方法可以一次求解多个方程组，也可以来求解方阵的逆矩阵。首先我们考虑求解矩阵 $A = \\begin{bmatrix} 1 & 3 \\\\ 2 & 7 \\end{bmatrix}$ 的逆矩阵，设 $A^{-1} = \\begin{bmatrix} a & c \\\\ b & d \\end{bmatrix}$，则 $\\begin{bmatrix} 1 & 3 \\\\ 2 & 7 \\end{bmatrix} \\begin{bmatrix} a & c \\\\ b & d \\end{bmatrix} = \\begin{bmatrix} 1 & 0 \\\\ 0 & 1 \\end{bmatrix}$。这里我们可以将它看成是两个方程组：$\\begin{bmatrix} 1 & 3 \\\\ 2 & 7 \\end{bmatrix} \\begin{bmatrix} a \\\\ b \\end{bmatrix} = \\begin{bmatrix} 1 \\\\ 0 \\end{bmatrix}$ 和 $\\begin{bmatrix} 1 & 3 \\\\ 2 & 7 \\end{bmatrix} \\begin{bmatrix} c \\\\ d \\end{bmatrix} = \\begin{bmatrix} 0 \\\\ 1 \\end{bmatrix}$。\n",
    "\n",
    "根据高斯诺尔当方法，我们将两个矩阵合并后进行先正向消元：$\\left[\\begin{array}{cc|cc}1&3&1&0\\\\2&7&0&1\\end{array}\\right] \\xrightarrow{row_2-2row_1}\\left[\\begin{array}{cc|cc}1&3&1&0\\\\0&1&-2&1\\end{array}\\right]$，再进行逆向消元，即消除第一个方程中的第二个主元：$\\left[\\begin{array}{cc|cc}1&3&1&0\\\\0&1&-2&1\\end{array}\\right]\\xrightarrow{row_1-3row_2}\\left[\\begin{array}{cc|cc}1&0&7&-3\\\\0&1&-2&1\\end{array}\\right]$。此时，合并矩阵左边的矩阵 $A$ 变成了单位矩阵，而右边的单位矩阵矩阵则变成了矩阵 $A$ 的逆，即 $A^{-1} = \\begin{bmatrix}7&3\\\\1&-2\\end{bmatrix}$。证明：$[ A\\ |\\ I] \\Rightarrow [ A*A^{-1}\\ |\\ I*A^{-1}] \\Rightarrow [ I\\ |\\ A^{-1}]$。\n",
    "\n",
    "### 矩阵逆的性质\n",
    "\n",
    "如果矩阵 $C$ 是矩阵 $A$ 和矩阵 $B$ 的乘积，那么矩阵 $C$ 的逆等于矩阵 $B$ 的逆乘以矩阵 $A$ 的逆：$(AB)^{-1} = B^{-1}A^{-1}$。证明，$A * B * B^{-1} * A^{-1} = A * A^{-1} = I$。\n",
    "\n",
    "矩阵 $A$ 转置的逆等于矩阵 $A$ 的逆的转置：$(A^T)^{-1} = (A^{-1})^T$。证明，$I^T = (A * A^{-1})^T \\Rightarrow (A^{-1})^TA^T = I$。\n",
    "\n",
    "一个矩阵的逆的逆等于它本身：$A = (A^{-1})^{-1}$。"
   ]
  },
  {
   "cell_type": "code",
   "execution_count": null,
   "metadata": {
    "collapsed": true
   },
   "outputs": [],
   "source": []
  }
 ],
 "metadata": {
  "kernelspec": {
   "display_name": "Python 3",
   "language": "python",
   "name": "python3"
  },
  "language_info": {
   "codemirror_mode": {
    "name": "ipython",
    "version": 3
   },
   "file_extension": ".py",
   "mimetype": "text/x-python",
   "name": "python",
   "nbconvert_exporter": "python",
   "pygments_lexer": "ipython3",
   "version": "3.6.2"
  }
 },
 "nbformat": 4,
 "nbformat_minor": 2
}
