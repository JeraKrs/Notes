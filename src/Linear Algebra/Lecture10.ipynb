{
 "cells": [
  {
   "cell_type": "markdown",
   "metadata": {},
   "source": [
    "# 第十讲 四个基本子空间\n",
    "\n",
    "## 基本空间\n",
    "对于一个 $m * n$ 的矩阵 $A$ 而言，它有四个基本的子空间：\n",
    "\n",
    "* 列空间（Column Space），记作 $C(A)$：$C(A) \\in \\mathbb{R}^m,\\ dimC(A) = r$\n",
    "* 零空间（Null Space），记作 $N(A)$：$N(A) \\in \\mathbb{R}^n,\\ dimN(A) = n - r$\n",
    "* 行空间（Row Space），记作 $R(A)$：$R(A) \\in \\mathbb{R}^n,\\ dimR(A) = r$\n",
    "* 左零空间（Left Null Space），记作 $N(A^T)$：$N(A^T) \\in \\mathbb{R}^m,\\ dimN(A^T) = m - r$\n",
    "\n",
    "\n",
    "以矩阵 $A = \\begin{bmatrix} 1 & 2 & 3 & 1 \\\\ 1 & 1 & 2 & 1 \\\\ 1 & 2 & 3 & 1\\end{bmatrix}$ 为例，对其进行消元：$A = \\begin{bmatrix} 1 & 2 & 3 & 1 \\\\ 1 & 1 & 2 & 1 \\\\ 1 & 2 & 3 & 1\\end{bmatrix} \\Rightarrow \\begin{bmatrix} 1 & 0 & 1 & 1 \\\\ 0 & 1 & 1 & 0 \\\\ 0 & 0 & 0 & 0 \\end{bmatrix} = R$。注意 矩阵 $A$ 的列空间与矩阵 $R$ 的列空间不同，即$C(R) ≠ C(A)$，因为矩阵进行了行变换；但是它们的行空间相同，即 $R(R) = R(A)$。\n",
    "\n",
    "左零空间，设有向量 $y$ 使得 $A^Ty = 0$ 成立，那么 $A^Ty = 0 \\Rightarrow (A^Ty)^T = 0^T \\Rightarrow y^TA = 0$。"
   ]
  },
  {
   "cell_type": "markdown",
   "metadata": {},
   "source": [
    "## 矩阵空间\n",
    "\n",
    "矩阵可以像向量一样进行加法和乘法，如果将矩阵看做向量，那么矩阵所组成的空间即为矩阵空间。"
   ]
  },
  {
   "cell_type": "code",
   "execution_count": null,
   "metadata": {
    "collapsed": true
   },
   "outputs": [],
   "source": []
  }
 ],
 "metadata": {
  "kernelspec": {
   "display_name": "Python 3",
   "language": "python",
   "name": "python3"
  },
  "language_info": {
   "codemirror_mode": {
    "name": "ipython",
    "version": 3
   },
   "file_extension": ".py",
   "mimetype": "text/x-python",
   "name": "python",
   "nbconvert_exporter": "python",
   "pygments_lexer": "ipython3",
   "version": "3.6.2"
  }
 },
 "nbformat": 4,
 "nbformat_minor": 2
}
