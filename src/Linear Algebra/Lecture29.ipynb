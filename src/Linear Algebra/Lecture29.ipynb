{
 "cells": [
  {
   "cell_type": "markdown",
   "metadata": {},
   "source": [
    "# 第二十九讲 相似矩阵和若尔当形\n",
    "\n",
    "承接上一讲的正定性，$x^TAx > 0$ 且 $x$ 不为零时，矩阵 $A$ 具有正定性。那么如果当矩阵 $A, B$ 均具有正定性时，矩阵 $A + B$ 也具有正定性，即 $x^T(A + B)x > 0$。\n",
    "\n",
    "考虑一个 $m * n$ 的矩阵，$A^TA$ 为一个对称的方阵。那么矩阵 $A^TA$ 是否具有正定性？首先 $x^TA^TAx = (Ax)^T(Ax) = ||Ax||^2 ≥ 0$，那么矩阵 $Ax$ 为零的情况仅有矩阵 $A$ 的秩不等于 $n$ 时。所以当矩阵 $A$ 的秩等于列数时，矩阵 $A^TA$ 具有正定性。"
   ]
  },
  {
   "cell_type": "markdown",
   "metadata": {},
   "source": [
    "## 相似矩阵\n",
    "\n",
    "矩阵 $A$ 和矩阵 $B$ 相似需要满足 $B = M^{-1}AM$。所以对于对角化有 $A = S\\Lambda S^{-1} \\Rightarrow \\Lambda = S^{-1}\\Lambda S$，矩阵 $A$ 和 $\\Lambda$ 也是相似矩阵。\n",
    "\n",
    "举例，$A = \\begin{bmatrix}2 & 1 \\\\ 1 & 2\\end{bmatrix}$，$\\underset{B}{\\begin{bmatrix}-2 & -15 \\\\ 1 & 6\\end{bmatrix}} = \\underset{M^{-1}}{\\begin{bmatrix}1 & -4 \\\\ 0 & 1\\end{bmatrix}} \\underset{A}{\\begin{bmatrix}2 & 1 \\\\ 1 & 2\\end{bmatrix}} \\underset{M}{\\begin{bmatrix}1 & 4 \\\\ 0 & 1\\end{bmatrix}}$，矩阵 $A$ 和矩阵 $B$ 的特征值相同，均为 $1$ 和 $3$。\n",
    "\n",
    "假设现在有矩阵 $A$ 满足 $Ax = \\lambda x$，如果有相似矩阵 $B$ 满足 $B = M^{-1}AM$。\n",
    "\n",
    "$$Ax = \\lambda x \\Rightarrow AMM^{-1}x = \\lambda x \\Rightarrow M^{-1}AMM^{-1}x = \\lambda M^{-1}x \\Rightarrow BM^{-1}x = \\lambda M^{-1}x$$\n",
    "\n",
    "\n",
    "所以相似矩阵具有相同的特征值，只是特征向量不同。\n",
    "\n",
    "当然，当矩阵具有重复的特征值时，情况比较复杂，以特征值 $\\lambda_1 = \\lambda_2 = 4$ 的情况，矩阵 $A = \\begin{bmatrix}4 & 0 \\\\ 0 & 4\\end{bmatrix}$ 和矩阵 $B = \\begin{bmatrix}4 & 1 \\\\ 0 & 4\\end{bmatrix}$ 均满足，但是它们并不相似。其实，具有这种特征值的矩阵可以分为两族，第一种只有一个矩阵，即矩阵 $A$，因为矩阵为对角线矩阵，所以有 $M^{-1}AM = AM^{-1}M = A$；第二类即为剩下的矩阵，这些矩阵互相相似，并且我们称其为诺尔当形。"
   ]
  },
  {
   "cell_type": "markdown",
   "metadata": {},
   "source": [
    "## 诺尔当形\n",
    "\n",
    "矩阵 $\\begin{bmatrix}0 & 1 & 0 & 0 \\\\ 0 & 0 & 1 & 0 \\\\ 0 & 0 & 0 & 0 \\\\ 0 & 0 & 0 & 0\\end{bmatrix}$ 的特征值为四个零。矩阵的秩为 $2$，所以其零空间的维数为 $4 - 2 = 2$，即该矩阵有两个特征向量。对于另一个矩阵 $\\begin{bmatrix}0 & 1 & 0 & 0 \\\\ 0 & 0 & 0 & 0 \\\\ 0 & 0 & 0 & 1 \\\\ 0 & 0 & 0 & 0 \\end{bmatrix}$，同样特征值为四个零，并且从特征向量的数目看来这两个矩阵是相似的。但诺尔当认为第一个矩阵是由一个 $3 * 3$ 和一个 $1 * 1$ 的块矩阵组成的 $\\left[\\begin{array}{ccc|c}0&1&0&0\\\\0&0&1&0\\\\0&0&0&0\\\\\\hline0&0&0&0\\end{array}\\right]$，而第二个矩阵是由两个 $2 * 2$ 的矩阵组成 $\\left[\\begin{array}{cc|cc}0&1&0&0\\\\0&0&0&0\\\\ \\hline0&0&0&1\\\\ 0&0&0&0\\end{array}\\right]$。这些块被称为诺尔当块，每一个矩阵都相当于一个若尔当矩阵，即为 $J=\\left[\\begin{array}{c|c|c|c}J_1&&&\\\\ \\hline&J_2&&\\\\ \\hline&&\\ddots&\\\\ \\hline&&&J_d\\end{array} \\right]$，并且若尔当块的个数即为矩阵特征值的个数。\n"
   ]
  },
  {
   "cell_type": "code",
   "execution_count": null,
   "metadata": {
    "collapsed": true
   },
   "outputs": [],
   "source": []
  }
 ],
 "metadata": {
  "kernelspec": {
   "display_name": "Python 3",
   "language": "python",
   "name": "python3"
  },
  "language_info": {
   "codemirror_mode": {
    "name": "ipython",
    "version": 3
   },
   "file_extension": ".py",
   "mimetype": "text/x-python",
   "name": "python",
   "nbconvert_exporter": "python",
   "pygments_lexer": "ipython3",
   "version": "3.6.2"
  }
 },
 "nbformat": 4,
 "nbformat_minor": 2
}
