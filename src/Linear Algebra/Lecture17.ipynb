{
 "cells": [
  {
   "cell_type": "markdown",
   "metadata": {},
   "source": [
    "# 第十七讲 正交矩阵和Gram-Schmidt正交化\n",
    "\n",
    "## 正交矩阵\n",
    "\n",
    "**标准正交向量**（Orthonormal Vector）：$q_i^Tq_j = \\left\\{\\begin{matrix} 0 & i ≠ j \\\\ 1 & i = j \\end{matrix}\\right.$\n",
    "\n",
    "**标准正交矩阵**（Orthonormal Matrix)：$Q = \\begin{bmatrix}q_1 & q_2 & \\dots & q_n\\end{bmatrix}$，当 $Q$ 为方阵时，也称为**正交矩阵**（Orthogonal Matrix），此时 $Q^T = Q^{-1}$。标准正交矩阵的特性有:\n",
    "* 列向量互相垂直\n",
    "* $Q^TQ = I$\n",
    "\n",
    "下面给出几个标准正交矩阵的例子：\n",
    "1. $Q = \\begin{bmatrix} 0 & 0 & 1 \\\\ 1 & 0 & 0 \\\\ 0 & 1 & 0 \\end{bmatrix}$\n",
    "2. $Q = \\begin{bmatrix} \\cos\\theta & -\\sin\\theta \\\\ \\sin\\theta & \\cos\\theta \\end{bmatrix}$\n",
    "3. $A = \\begin{bmatrix} 1 & 1 \\\\ 1 & -1 \\end{bmatrix}$，则 $Q = \\frac{1}{\\sqrt{2}}\\begin{bmatrix} 1 & 1 \\\\ 1 & -1 \\end{bmatrix}$\n",
    "\n",
    "阿德玛（Adhemar）构造法：适用于构造偶数列的标准正交矩阵，其构造方法为 $Q' = c \\begin{bmatrix}Q & Q \\\\ Q & -Q \\end{bmatrix}$，其中 $Q$ 为标准正交矩阵。\n",
    "\n",
    "为什么需要标准正交矩阵？假设现在有矩阵 $Q$ 为标准正交矩阵，在求解 $Qx = b$ 时，如果 $b \\notin C(Q)$，我们需要将向量 $b$ 投影到 $C(Q)$ 上，对应的投影矩阵 $P = Q(Q^TQ)^{-1}Q^T = QIQ^T = QQ^T$，这里不需要任何求逆矩阵的计算。并且如果 $Q$ 为方阵，即正交矩阵的话，$QQ^T = I$。\n",
    "\n",
    "计算 $A\\hat{x} = b$ 也是同样的，不需要求逆的计算，因为 $A^TA\\hat{x} = A^Tb$，如果 $A$ 是一个标准正交矩阵，那么 $A^TA = I$，原式等于 $\\hat{x} = A^Tb$。"
   ]
  },
  {
   "cell_type": "markdown",
   "metadata": {},
   "source": [
    "## Gram-Schmidt正交化法\n",
    "\n",
    "**Gram-Schmidt正交化法** 可以将若干个线性无关的向量正交化。\n",
    "\n",
    "假设现在需要将三个线性无关的向量 $a, b, c$ 转化为标准正交化向量 $q_1, q_2, q_3$。\n",
    "\n",
    "Gram-Schmidt正交化法分为两步，先将向量 $a, b, c$ 转化为正交化向量 $A, B, C$，再将它们单位化，变为单位正交向量$q_1=\\frac{A}{|A|}, q_2=\\frac{B}{|B|}, q_3=\\frac{C}{|C|}$。\n",
    "\n",
    "正交化的过程：\n",
    "* 先确定 $A = a$\n",
    "* 接下来将 $b$ 投影到 $A$ 上得到投影向量 $pa_b$，而 $B = b - pa_b = b - \\frac{A^Tb}{A^TA}A$\n",
    "* 对于接下来的向量 $c$，同理分别减去在 $A, B$ 方向上的分量 $C = c - \\frac{A^Tc}{A^TA}A - \\frac{B^Tc}{B^TB}B$\n",
    "\n",
    "举个例子：$a = \\begin{bmatrix} 1 \\\\ 1 \\\\ 1 \\end{bmatrix}, b = \\begin{bmatrix} 1 \\\\ 0 \\\\ 2 \\end{bmatrix}$，通过求解得 $q_1 = \\begin{bmatrix}1/\\sqrt{3} \\\\ 1/\\sqrt{3} \\\\ 1/\\sqrt{3} \\end{bmatrix}, q_2 = \\begin{bmatrix} 0 \\\\ -1/\\sqrt{2} \\\\ 1/\\sqrt{2} \\end{bmatrix}$。不难发现正交化后的矩阵，其列空间并没有发生变化。\n",
    "\n",
    "类似于消元中 $A = LU$，我们同样可以通过矩阵表达正交化的过程，即 $A = QR$。设有矩阵 $A = \\begin{bmatrix}a_1 & a_2 \\end{bmatrix}$，有 $R = \\begin{bmatrix} a_1^Tq_1 & a_2^Tq_2 \\\\ a_1^Tq_2 & a_2^Tq_2\\end{bmatrix}$。注意因为Gram-Schmidt正交化总是使得$a_1\\bot q_2$，后来构造的向量总是正交于先前的向量。所以这个 $R$ 矩阵是一个上三角矩阵。"
   ]
  },
  {
   "cell_type": "code",
   "execution_count": null,
   "metadata": {
    "collapsed": true
   },
   "outputs": [],
   "source": []
  }
 ],
 "metadata": {
  "kernelspec": {
   "display_name": "Python 3",
   "language": "python",
   "name": "python3"
  },
  "language_info": {
   "codemirror_mode": {
    "name": "ipython",
    "version": 3
   },
   "file_extension": ".py",
   "mimetype": "text/x-python",
   "name": "python",
   "nbconvert_exporter": "python",
   "pygments_lexer": "ipython3",
   "version": "3.6.2"
  }
 },
 "nbformat": 4,
 "nbformat_minor": 2
}
