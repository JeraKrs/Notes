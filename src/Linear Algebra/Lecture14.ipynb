{
 "cells": [
  {
   "cell_type": "markdown",
   "metadata": {},
   "source": [
    "# 第十四讲 正交向量与子空间\n",
    "\n",
    "**正交**（Orthogonal）的定义：当两个空间中的所有向量均互相垂直时，两个空间正交。并且当两个子空间正交，它们一定不会相交于某个非零向量。\n",
    "\n",
    "**毕达哥拉斯定理**（Pythagorean Theorem）：直角三角形的三条边满足 $||x||^2 + ||y||^2 = ||x + y||^2$\n",
    "\n",
    "$$||x||^2 + ||y||^2 = ||x + y||^2 \\Rightarrow x^Tx + y^Ty = (x + y)^T(x + y) \\Rightarrow x^Tx + y^Ty = x^Tx + x^Ty + y^Tx + y^Ty \\Rightarrow 2x^Ty = 0 \\Rightarrow x^Ty = 0$$\n",
    "\n",
    "**正交向量**（Vector Orthogonal）：对于向量 $x, y$，当 $x^Ty=0$时，向量 $x, y$ 正交。注意：零向量和任意向量均正交。\n",
    "\n",
    "举个例子：现在有 $x = \\begin{bmatrix}1 \\\\ 2 \\\\ 3 \\end{bmatrix}, y = \\begin{bmatrix} 2 \\\\ -1 \\\\ 0\\end{bmatrix}, x + y = \\begin{bmatrix}3 \\\\ 1 \\\\ 3\\end{bmatrix}$，则 $||x||^2 = 14, ||y||^2 = 5, ||x + y||^2 = 19$，$14 + 5 = 19$。"
   ]
  },
  {
   "cell_type": "markdown",
   "metadata": {},
   "source": [
    "在四个基本子空间中，对于秩为 $r$ 的 $m*n$ 矩阵，其行空间 $dimR(A)=r$ 与零空间 $dimN(A)=n−r$ 同属于 $\\mathbb{R}^n$ 空间，其列空间 $dimC(A)=r$ 与左零空间 $dimN(A^T)=m-r$ 同属于 $\\mathbb{R}^m$ 空间，所以矩阵的行空间和零空间为正交子空间，并且互补（$\\mathbb{R}^n$），列空间和左零空间为正交矩阵，并且互补（$\\mathbb{R}^m$）。\n",
    "\n",
    "考虑行空间和零空间，由于 $Ax = 0$，所以对于矩阵 $A$ 的每一行（包括这些行的线性组合），$row_i * x = 0$。根据定义我们可知矩阵的行空间和零空间正交。并且行空间与零空间将 $\\mathbb{R}^n$ 分割为两个正交的子空间，列空间与左零空间将 $\\mathbb{R}^m$ 分割为两个正交的子空间。于是我们把行空间与零空间称为 $n$ 维空间里的正交补（Orthogonal Complement），即零空间包含了所有与行空间正交的向量；同理列空间与左零空间为\n",
    " $m$ 维空间里的正交补，即左零空间包含了所有与零空间正交的向量。"
   ]
  },
  {
   "cell_type": "markdown",
   "metadata": {},
   "source": [
    "接下来考虑长方矩阵，即 $m > n$，它经常混入一些包含所谓 \"坏数据\" 的方程使得 $Ax = b$ 无解。一种最简单暴力的方法是通过筛选去掉一些我们不希望看到的方程，但是这并不是一个稳妥的方法，因为不能保证有解，并且计算量大。\n",
    "\n",
    "另一种方法是通过 $A^TA$ 的特殊矩阵实现的，通过等价 $A^TAx = A^Tb$ 去求解，先给出结论：\n",
    "* $N(A^TA) = N(A)$\n",
    "* $rank(A^TA) = rank(A)$\n",
    "* $A^TA$ 可逆当且仅当 $N(A)$ 只有零向量，即 $A$ 的列线性无关"
   ]
  },
  {
   "cell_type": "code",
   "execution_count": null,
   "metadata": {
    "collapsed": true
   },
   "outputs": [],
   "source": []
  }
 ],
 "metadata": {
  "kernelspec": {
   "display_name": "Python 3",
   "language": "python",
   "name": "python3"
  },
  "language_info": {
   "codemirror_mode": {
    "name": "ipython",
    "version": 3
   },
   "file_extension": ".py",
   "mimetype": "text/x-python",
   "name": "python",
   "nbconvert_exporter": "python",
   "pygments_lexer": "ipython3",
   "version": "3.6.2"
  }
 },
 "nbformat": 4,
 "nbformat_minor": 2
}
