{
 "cells": [
  {
   "cell_type": "markdown",
   "metadata": {},
   "source": [
    "# 第二十四讲 马尔科夫矩阵、傅里叶级数\n",
    "\n",
    "## 马尔科夫矩阵\n",
    "\n",
    "马尔科夫矩阵（Markov matrix）是指具有两个特性的矩阵：\n",
    "* 矩阵中的所有元素均大于零（矩阵用于概率模型）\n",
    "* 每列的元素之和等于一\n",
    "\n",
    "并且根据这两条性质，可以得出两个推论：\n",
    "* 马尔科夫矩阵必有一个特征值为一\n",
    "* 其他的特征值的绝对值皆小于一\n",
    "\n",
    "假设有马尔科夫矩阵 $A = \\begin{bmatrix} 0.1 & 0.01 & 0.3 \\\\ 0.2 & 0.99 & 0.3 \\\\ 0.7 & 0 & 0.4\\end{bmatrix}$，那么 $A - I = \n",
    "\\begin{bmatrix} -0.9 & 0.01 & 0.3 \\\\ 0.2 & -0.01 & 0.3 \\\\ 0.7 & 0 & -0.6\\end{bmatrix}$ 是一个奇异矩阵，因为它不是行线性无关。而对于奇异矩阵一定是有一个特征值为零，我们记作 $x$。那么即有 $(A - I)x = 0 \\Rightarrow Ax = x$，所以马尔科夫矩阵一定有一个为一的特征值。\n",
    "\n",
    "另外，特征值具有这样一个性质：矩阵与其转置的特征值相同。如果 $det(A - \\lambda I) = 0$，那么 $det(A-\\lambda I)^T = det(A^T - \\lambda I^T) = \\det(A^T - \\lambda I) = 0$。\n",
    "\n",
    "**马尔科夫矩阵的应用**\n",
    "\n",
    "我们用麻省和加州这两个州的人口迁移为例：假设加州每年有十分之一的人迁移到麻省，麻省有十分之二的人迁移到加州。列出方程 $\\begin{bmatrix} u_{cal} \\\\ u_{mass}\\end{bmatrix}_{k+1} = \\begin{bmatrix}0.9 & 0.2 \\\\ 0.1 & 0.8 \\end{bmatrix}\\begin{bmatrix}u_{cal} \\\\ u_{mass}\\end{bmatrix}_{k}$。现在有初始状态 $u_{cal} = 0, u_{mass} = 1000$。矩阵 $A$ 的特征值和特征向量可求 $\\lambda_1 = 1, x_1 = \\begin{bmatrix}2 \\\\ 1\\end{bmatrix}, \\lambda_2 = 0.7，x_1 = \\begin{bmatrix}-1 \\\\ 1\\end{bmatrix}$。通解的形式为 $u(k) = c_1\\begin{bmatrix}2 \\\\ 1\\end{bmatrix} + c_2(0.7)^k\\begin{bmatrix} -1 \\\\ 1\\end{bmatrix}$。带入初始状态可解出 $c_1 = \\frac{1000}{3}, c_2 = \\frac{2000}{3}$。\n",
    "\n",
    "因为特征向量中只有一个特征值为 $1$，其余的特征值均小于 $1$，所以当 $k$ 趋近无穷大时，$u$ 的值也会收敛到 $\\begin{bmatrix}2000/3 \\\\ 1000/3\\end{bmatrix}$。\n"
   ]
  },
  {
   "cell_type": "markdown",
   "metadata": {},
   "source": [
    "## 傅里叶级数\n",
    "\n",
    "回顾一下正交向量：假设有一组正交向量 $q_1, q_2, \\dots, q_n$，则向量 $v$ 的展开形式有 $x_1q_1 + x_2q_2 + \\dots + x_nq_n$，如果此时需要得到某个分向量的系数，只需要在等式两边同乘以 $q^T$ 即可，因为 $q^T_iq_j=0,q^2_i=1$。\n",
    "\n",
    "傅里叶级数的展开式：\n",
    "$$f(x) = a_0 + a_1\\cos{x} + b_1\\sin{x} + a_2\\cos(2x) + a_4\\sin(2x) + \\dots $$\n",
    "\n",
    "傅里叶发现，如同将向量 $v$ 展开到向量空间的一组标准正交基中，在函数空间中也可以做类似的展开。这里需要涉及函数正交，对于向量通常使用向量内积为零判断，而函数为一个连续的值，所以我们需要计算每个位置的点积之后求和，即 \n",
    "$$f^Tg = \\int f(x)g(x)dx$$\n",
    "\n",
    "我们可以对 $f(x) = \\sin(x), g(x) = \\cos(x)$ 进行检验：$\\int^{2\\pi}_{0}\\cos(x)\\sin(x) = \\frac{1}{2}(\\sin(2\\pi) - \\sin(0)) = 0$。最后看 $\\cos⁡(x)$ 项的系数是多少，类似向量，在等式两边同时做 $\\cos(x)$ 的内积，$\\int ^{2\\pi}_{0}f(x)\\cos(x)dx = a_1\\int^{2\\pi}_{0}\\cos(x)^2dx \\Rightarrow a_1 = \\frac{1}{\\pi}\\int^{2\\pi}_{0}f(x)\\cos(x)dx$。"
   ]
  },
  {
   "cell_type": "code",
   "execution_count": null,
   "metadata": {
    "collapsed": true
   },
   "outputs": [],
   "source": []
  }
 ],
 "metadata": {
  "kernelspec": {
   "display_name": "Python 3",
   "language": "python",
   "name": "python3"
  },
  "language_info": {
   "codemirror_mode": {
    "name": "ipython",
    "version": 3
   },
   "file_extension": ".py",
   "mimetype": "text/x-python",
   "name": "python",
   "nbconvert_exporter": "python",
   "pygments_lexer": "ipython3",
   "version": "3.6.2"
  }
 },
 "nbformat": 4,
 "nbformat_minor": 2
}
