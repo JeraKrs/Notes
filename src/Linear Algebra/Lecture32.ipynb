{
 "cells": [
  {
   "cell_type": "markdown",
   "metadata": {},
   "source": [
    "# 第三十二讲 基变换和图像处理\n",
    "\n",
    "## 图像压缩\n",
    "\n",
    "假设现在有一张 $512 * 512$ 的图像，第 $i$ 个位置的像素用 $x_i$ 来表示，如果是灰度图像，$x_i$ 的取值一般在 $[0, 255]$，在计算机中也就是八个比特位，考虑整张图的大小 $x \\in \\mathbb{R}^n, n = 512^2$；如果是彩色照片，$x_i$ 一般用三个值来表示一个像素，即向量长度变为灰度中的三倍。\n",
    "\n",
    "这么大的数据量进行传输时是非常耗时和困难的，所以通常通过压缩来减少数据大小。JPEG （Joint Photographic Expert Group，联合图像专家组）为一种有损的压缩方法，该方法采用的是基变换的方式压缩图像。好比如说，一块干净的黑板，相邻位置的数值应该是非常接近的，这时如果按照每一个位置去表示，像素就会非常浪费空间，也就是标准基不能很好的利用这张图片的性质。\n",
    "\n",
    "标准基的形式为 $\\begin{bmatrix}1 \\\\ 0 \\\\ \\vdots \\\\ 0\\end{bmatrix}, \\begin{bmatrix}0 \\\\ 1 \\\\ \\vdots \\\\ 0 \\end{bmatrix}, \\dots, \\begin{bmatrix} 0 \\\\ 0 \\\\ \\vdots \\\\ 1 \\end{bmatrix}$，现在需要用另一个更好的基来描述图像。\n",
    "\n",
    "例子：\n",
    "\n",
    "* 基中含有分量均为一的一个向量 $\\begin{bmatrix}1 & 1 & \\dots & 1\\end{bmatrix}^T$，一个向量就可以完整的给出所有“像素一致图像”的信息；\n",
    "* 基中含有正负交替的一个向量 $\\begin{bmatrix}1 & -1 & 1 & \\dots & -1 & 1\\end{bmatrix}^T$，可以用来描述国际象棋的棋盘；\n",
    "* 基中含有一半正一半负的一个向量 $\\begin{bmatrix}1 & \\dots & 1 & -1 & \\dots & -1\\end{bmatrix}^T$，可以用来描述一半亮一半暗的图片；\n",
    "\n",
    "\n"
   ]
  },
  {
   "cell_type": "markdown",
   "metadata": {},
   "source": [
    "### 傅里叶基\n",
    "\n",
    "接下来介绍傅里叶基，以 $8 * 8$ 的傅里叶基为例，即每次处理 $8 * 8$ 像素的小块，$F_n = \\begin{bmatrix}1 & 1 & 1 & \\dots & 1 \\\\ 1 & w & w^2 & \\dots & w^{n-1} \\\\ 1 & w^2 & w^4 & \\dots & w^{2(n-1)} \\\\ \\vdots & \\vdots & \\vdots & \\ddots & \\vdots \\\\ 1 & w^{n-1} & w^{2(n-1)} & \\dots & w^{(n-1)(n-1)}\\end{bmatrix}$，其中 $w=e^{i2\\pi/n}, n=8$。\n",
    "\n",
    "每次处理 $8 * 8$ 的小块时，每个小块有 $64$ 个像素，也就是 $64$ 个基向量，$64$ 个系数，在 $64$ 维空间中利用傅里叶向量做基变换。\n",
    "\n",
    "压缩算法的过程：\n",
    "* 变基，将输入信号 $64$ 维向量的 $x$ 转换为在傅里叶基下的 $64$ 个系数 $c$。\n",
    "* 压缩，一种方法是扔掉系数较小的系数，即阈值量化（Thresholding），虽然信息有损，但是只要阈值设置合理，肉眼是无法区分压缩前后的区别。\n",
    "\n",
    "视频可以理解成一个连续的图像，并且相近的帧非常接近，而压缩算法就是利用这个特性。"
   ]
  },
  {
   "cell_type": "markdown",
   "metadata": {},
   "source": [
    "### 小波基\n",
    "\n",
    "小波（Wavelets）基是另一种基，它是傅里叶基的竞争对手，以 $8 * 8$ 为例，$\\begin{bmatrix}1\\\\1\\\\1\\\\1\\\\1\\\\1\\\\1\\\\1\\end{bmatrix}, \\begin{bmatrix}1\\\\1\\\\1\\\\1\\\\-1\\\\-1\\\\-1\\\\-1\\end{bmatrix},  \\begin{bmatrix}1\\\\1\\\\-1\\\\-1\\\\0\\\\0\\\\0\\\\0\\end{bmatrix}, \\begin{bmatrix}0\\\\0\\\\0\\\\0\\\\1\\\\1\\\\-1\\\\-1\\end{bmatrix}, \n",
    "\\begin{bmatrix}1\\\\-1\\\\0\\\\0\\\\0\\\\0\\\\0\\\\0\\end{bmatrix} , \\begin{bmatrix}0\\\\0\\\\1\\\\-1\\\\0\\\\0\\\\0\\\\0\\end{bmatrix}, \n",
    "\\begin{bmatrix}0\\\\0\\\\0\\\\0\\\\1\\\\-1\\\\0\\\\0\\end{bmatrix}, \\begin{bmatrix}0\\\\0\\\\0\\\\0\\\\0\\\\0\\\\1\\\\-1\\end{bmatrix}$。在标准基下的一组像素 $P = \\begin{bmatrix}p_1 \\\\ p_2 \\\\ \\vdots \\\\ p_8\\end{bmatrix} = c_1w_1 + c_2w_2 + \\dots + c_8w_8 = \\begin{bmatrix}w_1 & w_2 & \\dots & w_8\\end{bmatrix}\\begin{bmatrix} c_1 \\\\ c_2 \\\\ \\vdots \\\\ c_8\\end{bmatrix} = WC$，所以在求 $C$ 时，有 $C = W^{-1}P$。\n",
    "\n",
    "\n",
    "所以，在选取一个好的基：\n",
    "* 计算快，快速傅里叶变换（FFT）和快速小波变换（FWT）。\n",
    "* 只需少量向量即可最大限度的重现图像。"
   ]
  },
  {
   "cell_type": "markdown",
   "metadata": {},
   "source": [
    "## 基变换\n",
    "\n",
    "基变换是让一个向量转换为由指定基 $W$ 组成的形式，即 $x = WC$。\n",
    "\n",
    "假设现在有线性变换 $T: \\mathbb{R}^8 \\rightarrow \\mathbb{R}^8$，原先的基向量 $V$ 在线性变换的作用上得到 $A$，基变换后的基向量 $W$ 在线性变换的作用下得到 $B$，矩阵 $A$ 和 $B$ 是相似的，即 $B = M^{-1}AM$，而 $M$ 就是基变换矩阵。"
   ]
  },
  {
   "cell_type": "code",
   "execution_count": null,
   "metadata": {
    "collapsed": true
   },
   "outputs": [],
   "source": []
  }
 ],
 "metadata": {
  "kernelspec": {
   "display_name": "Python 3",
   "language": "python",
   "name": "python3"
  },
  "language_info": {
   "codemirror_mode": {
    "name": "ipython",
    "version": 3
   },
   "file_extension": ".py",
   "mimetype": "text/x-python",
   "name": "python",
   "nbconvert_exporter": "python",
   "pygments_lexer": "ipython3",
   "version": "3.6.2"
  }
 },
 "nbformat": 4,
 "nbformat_minor": 2
}
