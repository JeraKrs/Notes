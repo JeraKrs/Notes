{
 "cells": [
  {
   "cell_type": "markdown",
   "metadata": {},
   "source": [
    "# 第二十讲 克拉默法则、逆矩阵、体积\n",
    "\n",
    "## 逆矩阵\n",
    "\n",
    "首先，给定逆矩阵的公式 $A^{-1} = \\frac{1}{detA}C^T$，其中矩阵 $C_{ij}$ 为 $a_{ij}$ 的余子式。已知 $AA^{-1} = I$，所以 $A * C^T = detA * I$，展开 $AC^T$：\n",
    "\n",
    "$$R=\\begin{bmatrix}a_{11}&a_{12}&\\cdots&a_{1n}\\\\\\vdots&\\vdots&\\ddots&\\vdots\\\\a_{n1}&a_{n2}&\\cdots&a_{nn}\\end{bmatrix}\\begin{bmatrix}C_{11}&\\cdots&C_{n1}\\\\C_{12}&\\cdots&C_{n2}\\\\\\vdots&\\ddots&\\vdots\\\\C_{1n}&\\cdots&C_{nn}\\end{bmatrix}$$\n",
    "\n",
    "对于矩阵 $R$ 有 $R_{ij} = \\sum^{n}_{k=1}a_{ik}C_{jk}$，当 $i = j$ 时，显然 $R_{ii} = detA$，因为公式等于代数余子式；当 $i ≠ j$ 时，虽然公式仍然是代数余子式，但是对应的矩阵不是 $A$，而是矩阵的第 $j$ 行被第 $i$ 行替换，而第 $i$ 行保持不变的矩阵 $A'$，根据行列式的性质可知，如果矩阵中有两行相等，那么行列式为 $0$。于是，最终的矩阵 $R$ 即为对角上全为 $detA$，其它位置均为零的矩阵，即 $detA*I$。"
   ]
  },
  {
   "cell_type": "markdown",
   "metadata": {},
   "source": [
    "## 求解 Ax=b\n",
    "\n",
    "克莱默法则（Cramer's rule）：$Ax = b \\Rightarrow x = A^{-1}b = \\frac{1}{detA}C^Tb$\n",
    "\n",
    "现在分析式子 $x = \\frac{1}{detA}C^Tb$，对于 $x$ 中的每一项有 $x_i = \\frac{y_i}{detA}$，其中 $y_i = b_1C_{11} + b_2C_{21}+ \\dots +b_nC_{n1}$，这里可以将 $y_i$ 看做矩阵 $B_i$ 的代数余子式，所以可以写成 $x_i = \\frac{detB_i}{detA}$。虽然公式很简单，但是并不方便计算。"
   ]
  },
  {
   "cell_type": "markdown",
   "metadata": {
    "collapsed": true
   },
   "source": [
    "## 体积\n",
    "\n",
    "先提出命题：行列式的绝对值等于一个箱子的体积。\n",
    "\n",
    "将矩阵的每一行看作是多边体的一条边，那么该矩阵的行列式即为该多边体的体积。\n",
    "\n",
    "我们从行列式的性质考虑：\n",
    "\n",
    "1. 性质一：对于三维的单位矩阵，很显然，$detI = 1$，而立方体的体积也是 $1$。\n",
    "2. 性质二：交换两行并不会改变箱子的大小，同时行列式的绝对值也没有改变。\n",
    "3. 性质三：如果增加一行的长度，不管是增加一定的量，还是增加倍数，体积也会随着改变。\n",
    "\n",
    "举个二维坐标的例子："
   ]
  },
  {
   "cell_type": "code",
   "execution_count": 21,
   "metadata": {},
   "outputs": [
    {
     "data": {
      "image/png": "[encoded data removed]",
      "text/plain": [
       "<matplotlib.figure.Figure at 0x10de401d0>"
      ]
     },
     "metadata": {},
     "output_type": "display_data"
    }
   ],
   "source": [
    "%matplotlib inline\n",
    "from functools import partial\n",
    "import matplotlib.pyplot as plt\n",
    "import numpy as np\n",
    "\n",
    "plt.axis('equal')\n",
    "plt.axis([-1, 4, -1, 4])\n",
    "\n",
    "plt.axhline(y=0, c='gray')\n",
    "plt.axvline(x=0, c='gray')\n",
    "\n",
    "plt.arrow(0, 0, 2, 1, color='black', head_width=0.1, head_length=0.1, length_includes_head=True)\n",
    "plt.arrow(0, 0, 1, 2, color='black', head_width=0.1, head_length=0.1, length_includes_head=True)\n",
    "plt.arrow(2, 1, 1, 2, color='grey', head_width=0.1, head_length=0.1, length_includes_head=True)\n",
    "plt.arrow(1, 2, 2, 1, color='grey', head_width=0.1, head_length=0.1, length_includes_head=True)\n",
    "\n",
    "plt.annotate('(a,b)', xy=(2, 1), xytext=(10, 0), textcoords='offset points', color='black', size=14)\n",
    "plt.annotate('(c,d)', xy=(1, 2), xytext=(-10, 10), textcoords='offset points', color='black', size=14)\n",
    "\n",
    "plt.title('Area')\n",
    "plt.show()"
   ]
  },
  {
   "cell_type": "markdown",
   "metadata": {},
   "source": [
    "而对于图中四边形的面积有 $area = ad - bc$。同理，对于空间上的三个点 $(x_1, y_1), (x_2, y_2), (x_3, y_3)$，该三角形的面积 $area = \\frac{1}{2}((x_2 - x_1)(y_3 - y_1) - (x_3 - x_1)(y_2 - y_1))$"
   ]
  },
  {
   "cell_type": "code",
   "execution_count": null,
   "metadata": {
    "collapsed": true
   },
   "outputs": [],
   "source": []
  }
 ],
 "metadata": {
  "kernelspec": {
   "display_name": "Python 3",
   "language": "python",
   "name": "python3"
  },
  "language_info": {
   "codemirror_mode": {
    "name": "ipython",
    "version": 3
   },
   "file_extension": ".py",
   "mimetype": "text/x-python",
   "name": "python",
   "nbconvert_exporter": "python",
   "pygments_lexer": "ipython3",
   "version": "3.6.2"
  }
 },
 "nbformat": 4,
 "nbformat_minor": 2
}
