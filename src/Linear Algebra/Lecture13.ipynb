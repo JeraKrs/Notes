{
 "cells": [
  {
   "cell_type": "markdown",
   "metadata": {},
   "source": [
    "# 第十三讲 复习一\n",
    "\n",
    "**问题1**：如果 $u, v, w$ 为 $\\mathbb{R}^7$ 中的非零向量，那么 $u, v, w$ 组成的向量空间维数可能是多少？\n",
    "\n",
    "*解答*：$1, 2, 3$。\n",
    "\n",
    "\n",
    "**问题2**：有一个 $5 * 3$ 的阶梯形式矩阵 $U$，其主元个数为 $3$\n",
    "1. 求矩阵 $U$ 的零空间。\n",
    "2. 现有 $10 * 3$ 的矩阵 $B = \\begin{bmatrix}U \\\\ 2*U\\end{bmatrix}$，求矩阵 $B$ 的阶梯形式和秩。\n",
    "3. 现有 $10 * 6$ 的矩阵 $C = \\begin{bmatrix}U & U \\\\ U & 0\\end{bmatrix}$，求矩阵 $C$ 的阶梯形式和秩。\n",
    "\n",
    "*解答*：\n",
    "1. 因为矩阵的秩 $r = 3$，而矩阵的列数 $n=3$，$r = n$，矩阵为列满秩，所以零空间只有零向量 $N(U) = \\{ \\begin{bmatrix}0 \\\\ 0 \\\\ 0 \\end{bmatrix} \\}$。\n",
    "2. 矩阵 $B$ 的阶梯形式为 $\\begin{bmatrix} U \\\\ 0 \\end{bmatrix}$，它的秩 $rank(B) = 3$。\n",
    "3. 矩阵 $C$ 的阶梯形式为 $\\begin{bmatrix} U & 0 \\\\ 0 & U \\end{bmatrix}$， 它的秩 $rank(C) = 6$。\n",
    "\n",
    "**问题3**：现在有 $Ax = \\begin{bmatrix}2 \\\\ 4 \\\\ 2\\end{bmatrix}$，其中 $x = \\begin{bmatrix}2 \\\\ 0 \\\\ 0\\end{bmatrix} + c\\begin{bmatrix}1 \\\\ 1 \\\\ 0 \\end{bmatrix} + d \\begin{bmatrix} 0 \\\\ 0 \\\\ 1 \\end{bmatrix}$，求矩阵 $A$，以及 $b$ 为何值时，方程有解。\n",
    "\n",
    "*解答*：首先，因为 $b$ 和 $x$ 均为 3维，所以 $A$ 是一个 $3*3$ 的矩阵；并且根据解的结构可知 $rank(A) = 1, dimN(A) = 2$；令 $c = d = 0$，则 $x = \\begin{bmatrix}2 \\\\ 0 \\\\ 0\\end{bmatrix}$，因此矩阵 $A$ 的第一列即为 $\\begin{bmatrix}1 \\\\ 2 \\\\ 1\\end{bmatrix}$；解的第二个和第三个分向量均在零空间中，第二个向量说明矩阵的第二列与第一列数值相反，第三个向量说明矩阵的三列均为 $0$；所以 $A = \\begin{bmatrix} 1 & -1 & 0 \\\\ 2 & -2 & 0 \\\\ 1 & -1 & 0 \\end{bmatrix}$。当 $b$ 落在矩阵 $A$ 的列空间上时，方程一定有解，即 $b = c \\begin{bmatrix}1 \\\\ 2 \\\\ 1 \\end{bmatrix}$。"
   ]
  },
  {
   "cell_type": "markdown",
   "metadata": {},
   "source": [
    "**问题4**：有一方阵的零空间中只有零向量，则其左零空间是否也只有零向量？\n",
    "\n",
    "*解答*：假设方阵为 $n*n$的矩阵 $A$，因为零空间中只有零向量，所以 $rank(A) = n, dimN(A) = n - r = 0$。因为矩阵为方阵，所以 $dimN(A) = m - r = n - r = 0$，即左零空间中也只有零向量。\n",
    "\n",
    "\n",
    "**问题5**：由 $5*5$ 的矩阵组成的矩阵空间，其中的所有可逆矩阵能否构成子空间？所有奇异矩阵能否构成子空间？\n",
    "\n",
    "*解答*：首先零矩阵不属于可逆矩阵，其次两个可逆矩阵相加不一定还是可逆矩阵，所以所有可逆矩阵不能构成子空间；同理，两个奇异矩阵相加也不一定是奇异矩阵，所以所有奇异矩阵同样不能构成子空间。\n",
    "\n",
    "\n",
    "**问题6**：如果 $B^2 = 0$，是否 $B = 0$？\n",
    "\n",
    "*解答*：$B ≠ 0$，反例 $\\begin{bmatrix} 0 & 1 \\\\ 0 & 0 \\end{bmatrix}$。\n",
    "\n",
    "\n",
    "**问题7**：如果 $n*n$ 矩阵的列向量线性无关，则是否对于任意 $b$，$Ax=b$ 都有解？\n",
    "\n",
    "*解答*：是的，因为方阵各列线性无关，所以方阵满秩，矩阵为可逆矩阵，肯定有解。"
   ]
  },
  {
   "cell_type": "markdown",
   "metadata": {},
   "source": [
    "**问题8**：有 $B=\\begin{bmatrix}1 & 1 & 0 \\\\ 0 & 1 & 0 \\\\1 & 0 & 1 \\end{bmatrix}\\begin{bmatrix}1 & 0 & -1 & 2 \\\\ 0 & 1 & 1 & -1 \\\\0 & 0 & 0 & 0 \\end{bmatrix}$。\n",
    "1. 在不解出 $B$ 的情况下，求 $B$ 的零空间。\n",
    "2. 求 $Ax = \\begin{bmatrix} 1 \\\\ 0 \\\\ 1\\end{bmatrix}$ 的通解。\n",
    "\n",
    "*解答*：\n",
    "1. 首先 $B = CD$，矩阵 $C$ 可逆，所以矩阵 $B$ 的零空间等于矩阵 $D$ 的零空间，$CDx = 0 \\Rightarrow C^{-1}CDx = C^{-1}0 \\Rightarrow Dx = 0$。所以 $B$ 矩阵的一组基为 $\\begin{bmatrix} 1 \\\\ -1 \\\\ 1 \\\\ 0 \\end{bmatrix}, \\begin{bmatrix} -2 \\\\ 1 \\\\ 0 \\\\ 1 \\end{bmatrix}$。\n",
    "2. 通过计算可知，矩阵 $B$ 的第一列为 $\\begin{bmatrix} 1 \\\\ 0 \\\\ 1\\end{bmatrix}$，所以 $Ax = \\begin{bmatrix} 1 \\\\ 0 \\\\ 1\\end{bmatrix}$ 的一个解为 $\\begin{bmatrix} 1 \\\\ 0 \\\\ 0 \\\\ 0\\end{bmatrix}$，结合第一问中的零空间，通解为 $$\\begin{bmatrix} 1 \\\\ 0 \\\\ 0 \\\\ 0\\end{bmatrix} + c\\begin{bmatrix} 1 \\\\ -1 \\\\ 1 \\\\ 0 \\end{bmatrix} + d\\begin{bmatrix} -2 \\\\ 1 \\\\ 0 \\\\ 1 \\end{bmatrix}$$\n",
    "\n",
    "\n",
    "**问题9**：对于任意方阵，其行空间等于列空间？\n",
    "\n",
    "*解答*：不是，例如矩阵 $\\begin{bmatrix} 0 & 1 \\\\ 0 & 0 \\end{bmatrix}$。但是如果该方阵是对称矩阵，则成立。\n",
    "\n",
    "\n",
    "**问题10**：\n",
    "1. $A$ 和 $-A$ 的四个子空间是否相同？\n",
    "2. 如果 $A, B$ 的四个基本子空间相同，则$A, B$互为倍数关系？\n",
    "\n",
    "*解答*：\n",
    "1. 是的。\n",
    "2. 不成立，对于任意两个 $n$ 阶可逆矩阵，它们的列空间、行空间均为 $\\mathbb{R}^n$，零空间、左零空间都只有零向量，所以他们的四个基本子空间相同，但是并不一定具有倍数关系。\n",
    "\n",
    "\n",
    "**问题11**：如果交换矩阵的某两行，哪些子空间发生变化，哪些没有？\n",
    "\n",
    "*解答*：行空间与零空间保持不变，而列空间与左零空间改变。"
   ]
  },
  {
   "cell_type": "code",
   "execution_count": null,
   "metadata": {
    "collapsed": true
   },
   "outputs": [],
   "source": []
  }
 ],
 "metadata": {
  "kernelspec": {
   "display_name": "Python 3",
   "language": "python",
   "name": "python3"
  },
  "language_info": {
   "codemirror_mode": {
    "name": "ipython",
    "version": 3
   },
   "file_extension": ".py",
   "mimetype": "text/x-python",
   "name": "python",
   "nbconvert_exporter": "python",
   "pygments_lexer": "ipython3",
   "version": "3.6.2"
  }
 },
 "nbformat": 4,
 "nbformat_minor": 2
}
