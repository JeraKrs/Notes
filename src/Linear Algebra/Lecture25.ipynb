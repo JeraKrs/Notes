{
 "cells": [
  {
   "cell_type": "markdown",
   "metadata": {},
   "source": [
    "# 第二十五讲 复习二\n",
    "\n",
    "知识点：\n",
    "* 正交向量\n",
    "* 投影、最小二乘法\n",
    "* Gram-schmidt正交化法\n",
    "* 特征值和特征向量\n",
    "* 对角化\n"
   ]
  },
  {
   "cell_type": "markdown",
   "metadata": {},
   "source": [
    "**问题1**：现有矩阵 $a = \\begin{bmatrix}2 \\\\ 1 \\\\ 2 \\end{bmatrix}$\n",
    "1. 求矩阵的投影矩阵 $P$\n",
    "2. 求投影矩阵 $P$ 的特征值和特征向量\n",
    "3. 有差分方程 $u_{k+1} = Pu_{k}$，且 $u_0 = \\begin{bmatrix} 9 \\\\ 9 \\\\ 0 \\end{bmatrix}$，求 $u_{k}$\n",
    "\n",
    "*解答*：\n",
    "1. $P = a(a^Ta)^{-1}a^T = \\frac{1}{9} \\begin{bmatrix} 4 & 2 & 4 \\\\ 2 & 1 & 2 \\\\ 4 & 2 & 4 \\end{bmatrix}$\n",
    "2. $\\lambda_1 = \\lambda_2 = 0, \\lambda_3 = 1, x = \\begin{bmatrix} 2 \\\\ 1 \\\\ 2\\end{bmatrix}$\n",
    "3. 这里的矩阵 $P$ 比较特殊，它是一个投影矩阵，所以 $u_1 = Pu_0 = \\begin{bmatrix}6 \\\\ 3 \\\\ 6\\end{bmatrix}$ 相当于将向量 $u_0$ 投影到矩阵 $a$ 的列空间中，此时再对 $u_1$ 进行投影，结果是不变的。\n"
   ]
  },
  {
   "cell_type": "markdown",
   "metadata": {},
   "source": [
    "**问题2**：将点 $(1,4), (2,5), (3,8)$ 拟合到一条过零点的直线上，记作 $y = Dt$。\n",
    "\n",
    "*解答*：首先可以列出 $Ax = b$ 的形式 $\\begin{bmatrix} 1 \\\\ 2 \\\\ 3\\end{bmatrix}D = \\begin{bmatrix} 4 \\\\ 5\\\\ 8\\end{bmatrix}$，此时方程组无解，于是我们需要求它的近似解 $\\hat{D}$，近似解有 $A^TA\\hat{D} = A^Tb \\Rightarrow 14 \\hat{D} = 38 \\Rightarrow \\hat{D} = \\frac{38}{14}$。"
   ]
  },
  {
   "cell_type": "markdown",
   "metadata": {},
   "source": [
    "**问题3**：求向量 $a_1 = \\begin{bmatrix} 1 \\\\ 2 \\\\ 3 \\end{bmatrix}, a_2 = \\begin{bmatrix}1 \\\\ 1 \\\\ 1 \\end{bmatrix}$ 的正交向量。\n",
    "\n",
    "*解答*：Gram-schmidt正交化法，首先令 $A = a_1$，然后我们需要将 $a_2$ 中的 $A$ 分量减掉，分量即为 $a_2$ 在 $a_1$ 上的投影，所以有 $B = a_2 - \\frac{a_1^Ta_2}{a_1a^T_1}a_1 = \\begin{bmatrix}1 \\\\ 1 \\\\ 1 \\end{bmatrix} - \\frac{6}{14}\\begin{bmatrix}1 \\\\ 2 \\\\ 3\\end{bmatrix}$。"
   ]
  },
  {
   "cell_type": "markdown",
   "metadata": {},
   "source": [
    "**问题4**：有四阶矩阵 $A$，其特征值为 $\\lambda_1, \\lambda_2, \\lambda_3, \\lambda_4$。\n",
    "1. 矩阵可逆的条件是什么？\n",
    "2. 矩阵逆的行列式为多少？\n",
    "3. 矩阵 $A + I$ 的迹为多少？\n",
    "\n",
    "*解答*：\n",
    "1. 矩阵可逆的前提为 $\\lambda_1, \\lambda_2, \\lambda_3, \\lambda_4 ≠ 0$。\n",
    "2. 矩阵逆的行列式为 $detA^{-1} = \\frac{1}{\\lambda_1\\lambda_2\\lambda_3\\lambda_4}$。\n",
    "3. 矩阵 $A + I$ 的迹为 $trac(A+I) = \\lambda_1 + \\lambda_2 + \\lambda_3 + \\lambda_4 + 4$。"
   ]
  },
  {
   "cell_type": "markdown",
   "metadata": {},
   "source": [
    "**问题5**：有特殊矩阵 $A_4 = \\begin{bmatrix}1 & 1 & 0 & 0 \\\\ 1 & 1 & 1 & 0 \\\\ 0 & 1 & 1 & 1 \\\\ 0 & 0 & 1 & 1 \\end{bmatrix}$，令 $D_n = detA_n$。\n",
    "1. 通过代数余子式证明 $D_n = c_1D_{n-1} + c_2D_{n-2}$，且求 $c_1, c_2$。\n",
    "2. 判断递归式是否收敛。\n",
    "\n",
    "*解答*：\n",
    "1. 通过代数余子式展开 $D_4 = 1 \\begin{vmatrix} 1 & 1 & 0 \\\\ 1 & 1 & 1 \\\\ 0 & 1 & 1\\end{vmatrix} - 1 \\begin{vmatrix} 1 & 1 & 0 \\\\ 0 & 1 & 1 \\\\ 0 & 1 & 1 \\end{vmatrix} = 1 \\begin{vmatrix} 1 & 1 & 0 \\\\ 1 & 1 & 1 \\\\ 0 & 1 & 1\\end{vmatrix} - 1 \\begin{vmatrix} 1 & 1 \\\\ 1 & 1 \\end{vmatrix} = D_3 - D_2$。\n",
    "2. 已知 $D_1 = 1, D_2 = 0$，在差分方程中构建方程组 $\\left\\{\\begin{matrix}D_n & = & D_{n-1} & - & D_{n-2} \\\\ D_{n-1} & = & D_{n-1} &  & \\end{matrix}\\right.$，矩阵形式为 $\\begin{bmatrix}D_n \\\\ D_{n-1} \\end{bmatrix}= \\begin{bmatrix} 1 & -1 \\\\ 1 & 0 \\end{bmatrix}\\begin{bmatrix}D_{n-1} \\\\ D_{n-2} \\end{bmatrix}$，计算矩阵 $A$ 的特征值得 $\\lambda_1 = \\frac{1 + \\sqrt{3}i}{2}, \\lambda_2 = \\frac{1 - \\sqrt{3}}{2}$，特征值为一对共轭复数。从复平面单位圆上可以看出，这些特征值的六次方将等于一，所以递归式既不收敛也不发散。"
   ]
  },
  {
   "cell_type": "code",
   "execution_count": null,
   "metadata": {
    "collapsed": true
   },
   "outputs": [],
   "source": []
  }
 ],
 "metadata": {
  "kernelspec": {
   "display_name": "Python 3",
   "language": "python",
   "name": "python3"
  },
  "language_info": {
   "codemirror_mode": {
    "name": "ipython",
    "version": 3
   },
   "file_extension": ".py",
   "mimetype": "text/x-python",
   "name": "python",
   "nbconvert_exporter": "python",
   "pygments_lexer": "ipython3",
   "version": "3.6.2"
  }
 },
 "nbformat": 4,
 "nbformat_minor": 2
}
