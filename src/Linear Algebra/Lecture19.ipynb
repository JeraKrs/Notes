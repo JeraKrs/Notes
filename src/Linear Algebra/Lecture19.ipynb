{
 "cells": [
  {
   "cell_type": "markdown",
   "metadata": {},
   "source": [
    "# 第十九讲 行列式公式和代数余子式\n",
    "\n",
    "## 行列式公式\n",
    "\n",
    "根据行列式的性质，可以推导二阶矩阵的行列式：$$\\begin{vmatrix}a & b \\\\ c & d \\end{vmatrix} = \\begin{vmatrix}a & 0 \\\\ c & d \\end{vmatrix} + \\begin{vmatrix}0 & b \\\\ c & d \\end{vmatrix} = \\begin{vmatrix}a & 0 \\\\ c & 0 \\end{vmatrix} + \\begin{vmatrix}a & 0 \\\\ 0 & d \\end{vmatrix} + \\begin{vmatrix}0 & b \\\\ 0 & d \\end{vmatrix} + \\begin{vmatrix}0 & b \\\\ c & 0 \\end{vmatrix} = \\begin{vmatrix}a & 0 \\\\ 0 & d \\end{vmatrix} - \\begin{vmatrix}c & 0 \\\\ 0 & b \\end{vmatrix} = ad - bc$$\n",
    "\n",
    "同理，可以推导三阶矩阵的行列式：$$\\begin{vmatrix}a_{11} & a_{12} & a_{13} \\\\ a_{21} & a_{22} & a_{23} \\\\ a_{31} & a_{32} & a_{33}\\end{vmatrix} = \\begin{vmatrix}a_{11} & 0 & 0 \\\\ 0 & a_{22} & 0 \\\\ 0 & 0 & a_{33}\\end{vmatrix} + \\begin{vmatrix}a_{11} & 0 & 0 \\\\ 0 & 0 & a_{23} \\\\ 0 & a_{32} & 0\\end{vmatrix} + \\begin{vmatrix}0 & a_{12} & 0 \\\\ a_{21} & 0 & 0 \\\\ 0 & 0 & a_{33}\\end{vmatrix} + \\begin{vmatrix}0 & a_{12} & 0 \\\\ 0 & 0 & a_{23} \\\\ a_{31} & 0 & 0\\end{vmatrix} + \\begin{vmatrix}0 & 0 & a_{13} \\\\ 0 & a_{22} & 0 \\\\ a_{31} & 0 & 0\\end{vmatrix} + \\begin{vmatrix}0 & 0 & a_{13} \\\\ a_{21} & 0 & 0 \\\\ 0 & a_{32} & 0 \\end{vmatrix} = a_{11}a_{22}a_{33} + a_{12}a_{23}a_{31} + a_{13}a_{21}a_{32} - a_{11}a_{23}a_{32} - a_{12}a_{21}a_{33} - a_{13}a_{22}a_{31}$$\n",
    "\n",
    "现给出行列式的通用公式：$\\det(A)=\\sum _{\\sigma \\in S_{n}}\\operatorname {sgn}(\\sigma )\\prod _{i=1}^{n}a_{i,\\sigma (i)}$，其中 $\\sigma$ 的逆序共有偶数个，则 $sgn(\\sigma) = 1$，如果逆序共有奇数个，则 $sgn(\\sigma) =-1$。"
   ]
  },
  {
   "cell_type": "markdown",
   "metadata": {},
   "source": [
    "## 代数余子式\n",
    "\n",
    "**代数余子式**（Cofactor Formula）的作用是把 $n$ 阶行列式化简为 $n−1$ 阶行列式。\n",
    "\n",
    "$$\\begin{vmatrix}a_{11} & a_{12} & a_{13} \\\\ a_{21} & a_{22} & a_{23} \\\\ a_{31} & a_{32} & a_{33}\\end{vmatrix} = \\begin{vmatrix}a_{11} & 0 & 0 \\\\ 0 & a_{22} & a_{23} \\\\ 0 & a_{32} & a_{33}\\end{vmatrix} + \\begin{vmatrix}0 & a_{12} & 0 \\\\ a_{21} & 0 & a_{23} \\\\ a_{31} & 0 & a_{33}\\end{vmatrix} + \\begin{vmatrix}0 & 0 & a_{13} \\\\ a_{21} & a_{22} & 0 \\\\ a_{31} & a_{32} & 0\\end{vmatrix}$$\n",
    "\n",
    "$$detA = a_{11}(a_{22}a_{33} - a_{23}a_{32}) - a_{12}(a_{21}a_{33} - a_{23}a_{31}) + a_{13}(a_{21}a_{32} - a_{22}a_{31})$$\n",
    "\n",
    "现在给出 $a_{ij}$ 的代数余子式：将原行列式的第 $i$ 行与第 $j$ 列抹去后得到的 $n−1$ 阶行列式记为 $C_{ij}$，$i+j$ 为偶数时取加，$i+j$ 为奇数时取减。"
   ]
  },
  {
   "cell_type": "markdown",
   "metadata": {},
   "source": [
    "到目前为止，求解行列式的方法有三种：\n",
    "* 对矩阵进行消元，得到对角线矩阵，$detA$ 就是主元的乘积\n",
    "* 通过行列式公式展开矩阵求解\n",
    "* 通过带数余子式"
   ]
  },
  {
   "cell_type": "code",
   "execution_count": null,
   "metadata": {
    "collapsed": true
   },
   "outputs": [],
   "source": []
  }
 ],
 "metadata": {
  "kernelspec": {
   "display_name": "Python 3",
   "language": "python",
   "name": "python3"
  },
  "language_info": {
   "codemirror_mode": {
    "name": "ipython",
    "version": 3
   },
   "file_extension": ".py",
   "mimetype": "text/x-python",
   "name": "python",
   "nbconvert_exporter": "python",
   "pygments_lexer": "ipython3",
   "version": "3.6.2"
  }
 },
 "nbformat": 4,
 "nbformat_minor": 2
}
