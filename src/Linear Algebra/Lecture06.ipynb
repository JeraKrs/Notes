{
 "cells": [
  {
   "cell_type": "markdown",
   "metadata": {},
   "source": [
    "# 第六讲 列空间和零空间\n",
    "\n",
    "如果有两个向量空间 $S$ 和 $T$，$S \\cup T$ 不一定是一个向量空间，但是 $S \\cap T$ 一定是一个向量空间。\n",
    "\n",
    "证明 $S \\cap T$ 一定是一个向量空间，假设有向量 $v, w$，并且 $v, w \\in S$，$v, w \\in T$，即 $v, w \\in S \\cap T$。因为 $S，T$ 都是向量空间，所以所有 $v, w$ 的线性组合均在向量空间 $S, T$ 中，即 $v + w \\in T$，$v + w \\in S$。因此，$v + w \\in S \\cap T$。\n",
    "\n",
    "## 列空间\n",
    "\n",
    "矩阵 $A$ 的列空间（Column Spaces）是将矩阵的每一列看作一个向量，这些向量所属的向量空间即为该矩阵的列空间，记作 $C(A)$。并且 $C(A) = R^k, k ≤ m$，其中 $m$ 为向量元素个数。\n",
    "\n",
    "考虑 $Ax = b$，并不是一定有解的，但是当 $b \\in C(A)$ 时，方程组一定有解，且 $x$ 即为对应的线性组合。\n",
    "\n",
    "## 零空间\n",
    "\n",
    "零空间（Null Space）为一个特殊的解空间，当 $b=0$时，所有 $Ax = b$ 的解组成的空间即为零空间。证明：如果存在解 $v, w$ 使得$Av = 0, Aw = 0$，那么 $A(v+w) = Av + Aw = 0$，$A(cv) = cAv = c * 0 = 0$, $A(vw) = Avw = 0 * w = 0$。\n",
    "\n",
    "对于 $b \\neq 0$ 的解不能组成向量空间。"
   ]
  },
  {
   "cell_type": "code",
   "execution_count": null,
   "metadata": {
    "collapsed": true
   },
   "outputs": [],
   "source": []
  }
 ],
 "metadata": {
  "kernelspec": {
   "display_name": "Python 3",
   "language": "python",
   "name": "python3"
  },
  "language_info": {
   "codemirror_mode": {
    "name": "ipython",
    "version": 3
   },
   "file_extension": ".py",
   "mimetype": "text/x-python",
   "name": "python",
   "nbconvert_exporter": "python",
   "pygments_lexer": "ipython3",
   "version": "3.6.2"
  }
 },
 "nbformat": 4,
 "nbformat_minor": 2
}
