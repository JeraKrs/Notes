{
 "cells": [
  {
   "cell_type": "markdown",
   "metadata": {},
   "source": [
    "# 第二讲 矩阵消元\n",
    "\n",
    "## 消元法\n",
    "\n",
    "消元法是指将许多关系式中的若干个元素通过有限次地变换，消去其中的某些元素，从而使问题获得解决的一种解题方法。\n",
    "\n",
    "消元法主要分两步：消元（Elimination）和回代（Back Substitution）。\n",
    "\n",
    "假设现在有三元方程组 $\\left\\{\\begin{matrix} x & + & 2y & + & z & = & 2 \\\\ 3x & +& 8y & +& z & = & 12\\\\  & & 4y & +& z & = & 2 \\end{matrix}\\right.$，其中 $A = \\begin{bmatrix} 1 & 2 & 1 \\\\  3 & 8 & 1 \\\\  0 & 4 & 1 \\end{bmatrix}$，$b = \\begin{bmatrix} 2 \\\\ 12 \\\\ 2 \\end{bmatrix}$。将矩阵 $b$ 放在矩阵 $A$ 的左侧，组成增广矩阵（Argumented Matrix），$Ab = \\begin{bmatrix} \\underline{1} & 2 & 1 & 2 \\\\ 3 & 8 & 1 & 12 \\\\ 0 & 4 & 1 & 2 \\end{bmatrix}$，其中 $Ab_{1,1}$ 项为主元（Pivot），即矩阵中下划线项。为了求解方程，需要将增广矩阵进行变换，得到矩阵 $Uc$。\n",
    "\n",
    "* 首先是消除第二个方程中的 $x$ 变量，将第一个方程乘上相应系数，再用第二个方程减去它：$\\begin{bmatrix} \\underline{1} & 2 & 1 & 2 \\\\ 3 & 8 & 1 & 12 \\\\ 0 & 4 & 1 & 2 \\end{bmatrix} \\xrightarrow{row_2-3row_1} \\begin{bmatrix} \\underline{1} & 2 & 1 & 2 \\\\ 0 & \\underline{2} & -2 & 6 \\\\ 0 & 4 & 1 & 2 \\end{bmatrix}$。此时第二个和第三个方程中均不含有变量 $x$（第三个方程原本就不含有变量 $x$，如果有，消除方法和第二个方程一致）。\n",
    "* 接下来是消除第三个方程中的变量 $y$，同理，将第二个方程乘上相应系数，再用第三个方程减去它：$\\begin{bmatrix} \\underline{1} & 2 & 1 & 2 \\\\ 0 & \\underline{2} & -2 & 6 \\\\ 0 & 4 & 1 & 2 \\end{bmatrix} \\xrightarrow{row_3-2row_2} \\begin{bmatrix} \\underline{1} & 2 & 1 & 2 \\\\ 0 & \\underline{2} & -2 & 6 \\\\ 0 & 0 & \\underline{5} & -10 \\end{bmatrix}$\n",
    "\n",
    "\n",
    "最终我们得到矩阵 $U = \\begin{bmatrix} 1 & 2 & 1 \\\\ 0 & 2 & -2 \\\\ 0 & 0 & 5 \\end{bmatrix}$ 和矩阵 $c = \\begin{bmatrix} 2 \\\\ 6 \\\\ -10 \\end{bmatrix}$。而在消元的过程中，如果主元为0，可以通过置换行来解决；但是如果剩下的行中主元均为0，则消元过程失败。\n",
    "\n",
    "考虑消元成功的情况，第二步则是回代，消元后的方程组为 $\\left\\{\\begin{matrix} x & +& 2y & + & z & = & 2 \\\\  & & 2y & -& 2z & = &  6\\\\  & &  & & 5z & = & -10 \\end{matrix}\\right.$。从第三个方程中可得 $z = -2$，将其带回第二个方程得 $y = 1$，同理将 $y, z$ 的值带回第一个方程得 $x = 2$。"
   ]
  },
  {
   "cell_type": "markdown",
   "metadata": {
    "collapsed": true
   },
   "source": [
    "## 消元矩阵\n",
    "\n",
    "消元的过程可以通过矩阵乘法来变换，只考虑矩阵 $A = \\begin{bmatrix} 1 & 2 & 1 \\\\  3 & 8 & 1 \\\\  0 & 4 & 1 \\end{bmatrix}$：\n",
    "\n",
    "* 消元的第一步可写成 $E_{2,1} = \\begin{bmatrix} 1 & 0 & 0 \\\\ -3 & 1 & 0 \\\\ 0 & 0 & 1 \\end{bmatrix}$，则变换过程有 $E_{2,1}\\begin{bmatrix} 1 & 2 & 1 \\\\  3 & 8 & 1 \\\\  0 & 4 & 1 \\end{bmatrix} = \\begin{bmatrix} 1 & 2 & 1 \\\\ 0 & 2 & -1 \\\\ 0 & 4 & 1 \\end{bmatrix}$\n",
    "* 消元的第二步可写成 $E_{3,2} = \\begin{bmatrix} 1 & 0 & 0 \\\\ 0 & 1 & 0 \\\\ 0 & -2 & 1 \\end{bmatrix}$，则变换过程有 $E_{3,2}\\begin{bmatrix} 1 & 2 & 1 \\\\ 0 & 2 & -1 \\\\ 0 & 4 & 1 \\end{bmatrix} = \\begin{bmatrix} 1 & 2 & 1 \\\\ 0 & -2 & -1 \\\\ 0 & 0 & 5 \\end{bmatrix}$\n",
    "* 如果将两步和在一起，可写成 $E_{3,2} (E_{2,1} A) = U \\Rightarrow (E_{3,2}E_{2,1})A = U$。注意：矩阵的乘法满足结合律，但不满足交换律。\n",
    "\n",
    "\n",
    "## 置换矩阵\n",
    "\n",
    "置换矩阵（Permutation Matrix）可以将原矩阵的行或列进行互换：\n",
    "\n",
    "* 行置换，$\\begin{bmatrix} 0 & 1\\\\ 1 & 0 \\end{bmatrix} \\begin{bmatrix} a & b\\\\ c & d \\end{bmatrix} = \\begin{bmatrix} c & d \\\\ a & b \\end{bmatrix}$\n",
    "* 列置换，$ \\begin{bmatrix} a & b\\\\ c & d \\end{bmatrix} \\begin{bmatrix} 0 & 1\\\\ 1 & 0 \\end{bmatrix} = \\begin{bmatrix} b & a \\\\ d & c \\end{bmatrix}$"
   ]
  }
 ],
 "metadata": {
  "kernelspec": {
   "display_name": "Python 3",
   "language": "python",
   "name": "python3"
  },
  "language_info": {
   "codemirror_mode": {
    "name": "ipython",
    "version": 3
   },
   "file_extension": ".py",
   "mimetype": "text/x-python",
   "name": "python",
   "nbconvert_exporter": "python",
   "pygments_lexer": "ipython3",
   "version": "3.6.2"
  }
 },
 "nbformat": 4,
 "nbformat_minor": 2
}
