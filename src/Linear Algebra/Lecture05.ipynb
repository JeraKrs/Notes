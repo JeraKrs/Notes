{
 "cells": [
  {
   "cell_type": "markdown",
   "metadata": {},
   "source": [
    "# 第五讲 转置-置换-向量空间R\n",
    "\n",
    "## 置换矩阵\n",
    "\n",
    "置换矩阵（Permutation Matrix）是一种系数只由0和1组成的方块矩阵。当一个矩阵乘上一个置换矩阵时，所得到的是原来矩阵的横行（置换矩阵左乘）或纵列（置换矩阵右乘）经过交换后的矩阵。对于一个 $n$ 阶的方阵而言，它的置换矩阵一共有 $n!$ 个。\n",
    "\n",
    "置换矩阵的逆等于置换矩阵的转置：$P^{-1} = P^T$。"
   ]
  },
  {
   "cell_type": "markdown",
   "metadata": {},
   "source": [
    "## 转置矩阵\n",
    "\n",
    "转置矩阵（Transpose Matrix）是将原矩阵行变成列，列变成行的一个操作。矩阵 $A$ 的转置记作 $A^T$，$(A^T)_{i,j} = A_{j,i}$。\n",
    "\n",
    "例如：$A = \\begin{bmatrix} 1 & 3\\\\ 2 & 3\\\\ 4 & 1\\end{bmatrix}$，$A^T = \\begin{bmatrix} 1 & 2 & 4 \\\\ 3 & 3 & 1 \\end{bmatrix}$。\n",
    "\n",
    "转置矩阵的特性：\n",
    "* $(A^T)^T = A$\n",
    "* $(AB)^T = B^TA^T$"
   ]
  },
  {
   "cell_type": "markdown",
   "metadata": {},
   "source": [
    "## 对称矩阵\n",
    "\n",
    "对称矩阵（Symmetric Matrix）是一类具有特殊性质的矩阵，这类矩阵的转置是矩阵本身，即 $A = A^T$。\n",
    "\n",
    "一个矩阵乘以它的转置得到的矩阵一定是对称矩阵，$(R^TR)^T = R^T(R^T)^T = R^TR$。"
   ]
  },
  {
   "cell_type": "markdown",
   "metadata": {},
   "source": [
    "## 向量空间\n",
    "\n",
    "向量空间（Vector Spaces）的一个直观模型是向量几何，向量空间中的向量经过向量加法，向量乘法，标量乘法后得到的向量也在该空间内，即向量空间要满足加法封闭和数乘封闭。并且向量空间都必须包含原点（Origin）。我们将拥有 $n$ 个实数的向量组成的空间记作 $\\mathbb{R}^n$。例如：$\\mathbb{R}^2$ 即为所有二维向量组成的向量空间。\n",
    "\n",
    "向量子空间（Vector Subspace），满足向量空间的条件，但不是包含所有的向量。对于二维向量空间 $\\mathbb{R}^2$ 而言，它的向量子空间有三种，二维向量空间、过原点的直线、原点。\n",
    "\n",
    "矩阵的向量空间是将矩阵的每一列看成一个向量，这些向量进行线性组合后的所有向量组成的空间即为向量空间。"
   ]
  },
  {
   "cell_type": "code",
   "execution_count": null,
   "metadata": {
    "collapsed": true
   },
   "outputs": [],
   "source": []
  }
 ],
 "metadata": {
  "kernelspec": {
   "display_name": "Python 3",
   "language": "python",
   "name": "python3"
  },
  "language_info": {
   "codemirror_mode": {
    "name": "ipython",
    "version": 3
   },
   "file_extension": ".py",
   "mimetype": "text/x-python",
   "name": "python",
   "nbconvert_exporter": "python",
   "pygments_lexer": "ipython3",
   "version": "3.6.2"
  }
 },
 "nbformat": 4,
 "nbformat_minor": 2
}
