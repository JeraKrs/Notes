{
 "cells": [
  {
   "cell_type": "markdown",
   "metadata": {},
   "source": [
    "# 第四讲 A的LU分解\n",
    "\n",
    "矩阵的 $LU$ 分解是最基本的矩阵因子分解，在第二讲矩阵消元中提到，矩阵 $A$ 进过一系列消元操作可以得到矩阵 $U$，记作 $EA = U$。结合第三讲中的逆矩阵，如果 $A = LU$，那么矩阵 $L$ 即为矩阵 $E$ 的逆，记作 $E = L^{-1}$。注意，矩阵 $L$ 是一个对角线元素均为1，对角线以上元素均为0的矩阵；而矩阵 $U$ 是一个对角线元素均为1，对角线以下元素均为0的矩阵。\n",
    "\n",
    "将一个 $n$ 阶方阵 $A$ 变换为 $LU$ 需要的计算量估计（不考虑行交换）：第 $i$ 个主元的消除计算量为 $(n-i+1)^2$，所以总的计算量等于 $$n^2 + (n-1)^2 + \\dots + 2^2 + 1^2 \\approx \\frac{1}{3}n^3$$\n",
    "\n",
    "如果考虑行交换的情况，那么 $LU$ 分解可以表示成 $PA = LU$，其中 $P$ 为置换矩阵。"
   ]
  },
  {
   "cell_type": "code",
   "execution_count": null,
   "metadata": {
    "collapsed": true
   },
   "outputs": [],
   "source": []
  }
 ],
 "metadata": {
  "kernelspec": {
   "display_name": "Python 3",
   "language": "python",
   "name": "python3"
  },
  "language_info": {
   "codemirror_mode": {
    "name": "ipython",
    "version": 3
   },
   "file_extension": ".py",
   "mimetype": "text/x-python",
   "name": "python",
   "nbconvert_exporter": "python",
   "pygments_lexer": "ipython3",
   "version": "3.6.2"
  }
 },
 "nbformat": 4,
 "nbformat_minor": 2
}
