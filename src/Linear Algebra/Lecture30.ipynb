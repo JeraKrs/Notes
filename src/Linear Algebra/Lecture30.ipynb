{
 "cells": [
  {
   "cell_type": "markdown",
   "metadata": {},
   "source": [
    "# 第三十讲 奇异值分解\n",
    "\n",
    "奇异值分解（Singular Value Decomposition，SVD）是将矩阵进行因子分解，即 $A =  U\\Sigma V^T$，其中 $U, V$ 为正交矩阵，$\\Sigma$ 为对角线矩阵。\n",
    "\n",
    "* 在正定性一讲（二十八讲）中，我们知道一个正矩阵可以拆分成 $A = Q\\Lambda Q^T$ 的形式， 由于 $A$ 的对称性，其特征向量是正交的，且 $\\Lambda$ 矩阵中的元素皆为正，这就是正定矩阵的奇异值分解。\n",
    "* 在对角化一讲（二十二讲）中，我们知道一个方阵可以拆分成 $A = S\\Lambda S^T$ 的形式，但由于 $S$ 不是正交矩阵，所以对角化不是一个奇异值分解的过程。\n",
    "\n",
    "现在，我们要做的是，在矩阵 $A$ 的行空间中找到一组特殊的正交基 $v_1,v_2, \\dots, v_r$，这组基在经过矩阵 $A$ 代表的变换后可以得到一组在矩阵 $A$ 列空间的一组基，即 $AV = U\\Sigma$。因为 $\\Sigma$ 为对角线矩阵，所以 $U\\Sigma$ 只是对矩阵 $U$ 中每个基向量进行了一个缩放，而矩阵 $\\Sigma$ 中的元素 $\\sigma_i$ 称为缩放因子，矩阵 $A$ 的左零空间和零空间将体现在 $\\sigma$ 的零值中。"
   ]
  },
  {
   "cell_type": "markdown",
   "metadata": {},
   "source": [
    "例子，矩阵 $A = \\begin{bmatrix}4 & 4 \\\\ -3 & 3\\end{bmatrix}$，我们需要求解：\n",
    "\n",
    "* 列空间 $\\mathbb{R}^2$ 的标准基向量 $v_1, v_2$\n",
    "* 行空间 $\\mathbb{R}^2$ 的标准基向量 $u_1, u_2$\n",
    "* 对角矩阵 $\\Sigma$ 的值 $\\sigma_1, \\sigma_2$\n",
    "\n",
    "因为正交矩阵有 $Q^T = Q$，所以有 $A^TA = V\\Sigma^TU^TU\\Sigma V^T = V\\Sigma^T\\Sigma V^T = V\\Sigma^2V^T \\Rightarrow A^TAV^T = \\Sigma^2V^T$。那么 $V^T$ 即由矩阵 $A^TA$ 的特征向量组成，$\\Sigma^2$ 即由矩阵 $A^TA$ 的特征值组成。\n",
    "\n",
    "$$A^TA = \\begin{bmatrix}25 & 7 \\\\ 7 & 25\\end{bmatrix} \\Rightarrow x_1 = \\begin{bmatrix}\\frac{1}{\\sqrt{2}} \\\\ \\frac{1}{\\sqrt{2}}\\end{bmatrix}, \\lambda_1 = 32, x_2 = \\begin{bmatrix}\\frac{1}{\\sqrt{2}} \\\\ -\\frac{1}{\\sqrt{2}}\\end{bmatrix}, \\lambda_2 = 18 $$\n",
    "\n",
    "同理有 $AA^T = U\\Sigma V^T V \\Sigma U^T = U\\Sigma^2U^T$，\n",
    "\n",
    "$$AA^T = \\begin{bmatrix}32 & 0 \\\\ 0 & 18\\end{bmatrix} \\Rightarrow x_1 = \\begin{bmatrix} 1 \\\\ 0 \\end{bmatrix}, \\lambda_1 = 32, x_2 = \\begin{bmatrix}0 \\\\ -1 \\end{bmatrix}, \\lambda_2 = 18 $$\n",
    "\n",
    "于是最终有，\n",
    "\n",
    "$$A = \\begin{bmatrix}4 & 4 \\\\ -3 & 3 \\end{bmatrix} = \\begin{bmatrix}1 & 0 \\\\ 0 & -1\\end{bmatrix}\\begin{bmatrix}\\sqrt{32} & 0 \\\\ 0 & \\sqrt{18}\\end{bmatrix} \\begin{bmatrix}\\frac{1}{\\sqrt{2}} & \\frac{1}{\\sqrt{2}} \\\\ \\frac{1}{\\sqrt{2}} & -\\frac{1}{\\sqrt{2}}\\end{bmatrix} = U\\Sigma V^T$$\n"
   ]
  },
  {
   "cell_type": "markdown",
   "metadata": {},
   "source": [
    "再做一个例子，矩阵 $A = \\begin{bmatrix}4 & 3 \\\\ 8 & 6\\end{bmatrix}$，该矩阵的秩为一，所以列空间为 $\\begin{bmatrix}4 \\\\ 8\\end{bmatrix}$ 的倍数，行空间为 $\\begin{bmatrix}4 \\\\ 3\\end{bmatrix}$ 的倍数。\n",
    "\n",
    "通过求解可得 $v_1 = \\begin{bmatrix}\\frac{4}{5} \\\\ \\frac{3}{5}\\end{bmatrix}, u_1 = \\begin{bmatrix}\\frac{1}{\\sqrt{5}} \\\\ \\frac{2}{\\sqrt{5}}\\end{bmatrix}$，由于 $A$ 是秩一矩阵，则 $A^TA$ 也不满秩，所以必有为 $0$ 的特征值，所以继续求解零空间的解有 $v_2 = \\begin{bmatrix}\\frac{3}{5} \\\\ -\\frac{4}{5}\\end{bmatrix}, u_2 = \\begin{bmatrix}\\frac{2}{\\sqrt{5}} \\\\ -\\frac{1}{\\sqrt{5}}\\end{bmatrix}$。\n",
    "\n",
    "于是有结论：\n",
    "\n",
    "* $v_1, \\dots, v_r$ 为行空间中的标准正交基。\n",
    "* $u_1, \\dots, u_r$ 为列空间中的标准正交基。\n",
    "* $v_{r + 1}, \\dots, v_n$ 为零空间中的标准正交基。\n",
    "* $u_{r + 1}, \\dots, u_m$ 为左零空间中的标准正交基。"
   ]
  },
  {
   "cell_type": "code",
   "execution_count": null,
   "metadata": {
    "collapsed": true
   },
   "outputs": [],
   "source": []
  }
 ],
 "metadata": {
  "kernelspec": {
   "display_name": "Python 3",
   "language": "python",
   "name": "python3"
  },
  "language_info": {
   "codemirror_mode": {
    "name": "ipython",
    "version": 3
   },
   "file_extension": ".py",
   "mimetype": "text/x-python",
   "name": "python",
   "nbconvert_exporter": "python",
   "pygments_lexer": "ipython3",
   "version": "3.6.2"
  }
 },
 "nbformat": 4,
 "nbformat_minor": 2
}
