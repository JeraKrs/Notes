{
 "cells": [
  {
   "cell_type": "markdown",
   "metadata": {},
   "source": [
    "# 第二十一讲 特征值和特征向量\n",
    "\n",
    "## 特征值和特征向量\n",
    "\n",
    "对于一个已知的矩阵 $A$，它的**特征值**（Eigen Value），记作 $\\lambda$，和**特征向量**（Eign Vector），记作 $x$，满足 $Ax = \\lambda x$。不难看出，$Ax$ 是平行于 $x$ 的。\n",
    "\n",
    "现在我们假设特征值为零，即 $\\lambda = 0$，那么有 $Ax = 0$，特征向量 $x$ 一定在矩阵 $A$ 的零空间内。所以对于奇异矩阵而言，一定是有一个特征值为零。\n",
    "\n",
    "再来考虑投影矩阵 $P = A(A^TA)^{-1}A^T$，对于向量 $x \\in C(A)$ 有 $Px = x$，所以此时特征值为 $1$；对于向量 $x \\perp C(A)$ 有 $Px = 0$，所以此时的特征值为 $0$。\n",
    "\n",
    "特征值的两个特性：\n",
    "* 矩阵所有特征值的和等于矩阵对角线元素的和，所以我们也称对角线元素的和为矩阵的迹（Trace）\n",
    "* 矩阵所有特征值的积等于矩阵的行列式"
   ]
  },
  {
   "cell_type": "markdown",
   "metadata": {},
   "source": [
    "## 求解 $Ax = \\lambda x$\n",
    "\n",
    "方程 $Ax=\\lambda x$，有两个未知数 $\\lambda, x$。首先重写方程为 $(A - \\lambda I)x = 0$，如果方程有解，则矩阵 $A - \\lambda I$ 一定是一个奇异矩阵，而奇异矩阵的行列式等于零，所以有 $det(A - \\lambda I)x = 0$，此时方程中没有变量 $x$，可以解出特征值，该方程也称**特征方程**（Characteristic Equation）。有了特征值之后，回代可解出特征方程。\n",
    "\n",
    "例子：有矩阵 $A = \\begin{bmatrix}3 & 1 \\\\ 1 & 3 \\end{bmatrix}$，需要解出特征值和特征向量。\n",
    "\n",
    "$A - \\lambda I = \\begin{bmatrix}3-\\lambda & 1 \\\\ 1 & 3 - \\lambda \\end{bmatrix}$，因为该矩阵的行列式为零，所以有 $3 - \\lambda)^2 - 1 = 0 \\Rightarrow (\\lambda - 4)(\\lambda - 2) = 0 \\Rightarrow \\left\\{\\begin{matrix} \\lambda_1 & = & 4 \\\\  \\lambda_2 & = & 2 \\end{matrix}\\right., \\left\\{\\begin{matrix} x_1 & = & \\begin{bmatrix} 1 \\\\ 1 \\end{bmatrix} \\\\  x_2 & = & \\begin{bmatrix} -1 \\\\ 1 \\end{bmatrix} \\end{matrix}\\right.$\n",
    "\n",
    "这里提一个错误的结论，假设有矩阵 $A, B$，它们分别有特征向量 $\\lambda_a, \\lambda_b$，那么 $Ax = \\lambda_a x, Bx = \\lambda_b$，所以 $Ax + Bx = \\lambda_a x + \\lambda_b x = (\\lambda_a + \\lambda_b)x$ ？ 不是的，因为矩阵 $A, B$ 的特征向量是不同的，即 $x_a ≠ x_b$。\n",
    "\n",
    "现在看一个比较糟糕的例子，旋转矩阵 $Q = \\begin{bmatrix} 0 & -1 \\\\ 1 & 0\\end{bmatrix}$，根据特征值的性质有 $trace = 0, det = 1$，所以 $\\lambda^2 + 1 = 0$，解出有 $\\lambda_1 = i, \\lambda_2 = -i$，这里的解是复数。\n",
    "\n",
    "再看一个更糟糕的例子，矩阵 $A = \\begin{bmatrix} 3 & 1 \\\\ 0 & 3 \\end{bmatrix}$，这是一个上三角矩阵，这里 $\\lambda_1 = \\lambda_2 = 3$，这种有重复特征值的矩阵也称为退化矩阵（Degenerate Matrix）。"
   ]
  },
  {
   "cell_type": "code",
   "execution_count": null,
   "metadata": {
    "collapsed": true
   },
   "outputs": [],
   "source": []
  }
 ],
 "metadata": {
  "kernelspec": {
   "display_name": "Python 3",
   "language": "python",
   "name": "python3"
  },
  "language_info": {
   "codemirror_mode": {
    "name": "ipython",
    "version": 3
   },
   "file_extension": ".py",
   "mimetype": "text/x-python",
   "name": "python",
   "nbconvert_exporter": "python",
   "pygments_lexer": "ipython3",
   "version": "3.6.2"
  }
 },
 "nbformat": 4,
 "nbformat_minor": 2
}
