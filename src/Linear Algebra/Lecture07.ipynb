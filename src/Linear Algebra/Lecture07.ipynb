{
 "cells": [
  {
   "cell_type": "markdown",
   "metadata": {},
   "source": [
    "# 第七讲 求解Ax=0：主变量、特解\n",
    "\n",
    "零空间求解过程即为求解 $Ax=0$ 的特解，其过程主要有四步：消元、区别主元列和自由列、对自由变量赋值、回代。\n",
    "\n",
    "矩阵 $A$ 的秩（Rank）为矩阵中主元的个数。在求解 $Ax=0$ 的过程中，将矩阵 $A$ 进行消元操作得到矩阵 $U$，称为阶梯形式（Echelon Form）。在阶梯形式中，可以很清楚的区别主元列（Pivot Column）和自由列（Free Column），对于自由列对应的变量而言，其值可以任取；而主元列对应的变量即为主变量。\n",
    "\n",
    "特解（Special Solution）的个数 = 变量数 $n$ （矩阵列数）- 主元数 $r$（矩阵秩），在求解特解时，需要将其中一个自由变量赋值为 $1$，其它为 $0$，然后进行回代，求得的解向量即为一个特解。"
   ]
  },
  {
   "cell_type": "markdown",
   "metadata": {},
   "source": [
    "举例：假设有矩阵 $A = \\begin{bmatrix} 1 & 2 & 2 & 2 \\\\  2 & 4 & 6 & 8 \\\\ 3 & 6 & 8 & 10 \\end{bmatrix}$，进行消元得到矩阵 $U = \\begin{bmatrix} \\underline{1} & 2 & 2 & 2 \\\\  0 & 0 & \\underline{2} & 4 \\\\ 0 & 0 & 0 & 0 \\end{bmatrix}$，其中下划线标记的数字为主元，主元对应的列为主元列。\n",
    "\n",
    "所以第一、三列为主元列，二、四列为自由列。令 $x_2 = 1, x_4 = 0$，回代求得解 $x = \\begin{bmatrix} -2 \\\\ 1  \\\\ 0 \\\\ 0 \\end{bmatrix}$；令 $x_2 = 0, x_4 = 1$，回代求得解 $x = \\begin{bmatrix} 2 \\\\ 0 \\\\ -2 \\\\ 1 \\end{bmatrix}$。这两个解即为矩阵 $A$ 的特解，它们组成的向量空间即为矩阵 $A$ 的零空间。\n"
   ]
  },
  {
   "cell_type": "markdown",
   "metadata": {},
   "source": [
    "除了通过常规方法求解特解，还可以通过矩阵变换得到特解。将矩阵的阶梯形式进一步消元，得到主元上下均为 $0$，主元为 $1$ 的简化行阶梯形式（Reduced Row Echelon Form），记作 $R$。然后忽略为 $0$ 的无用行，对矩阵 $R$ 进行列置换，得到 $[I\\ F]$ 的形式，即将主元列和自由列分开。最后，自由列中的每一列的值取相反数即为一个特解。\n",
    "\n",
    "证明：现有 $R = \\begin{bmatrix} I & F \\\\  0 & 0 \\end{bmatrix}$，假设特解组成的矩阵为 $N = \\begin{bmatrix} -F \\\\ I  \\end{bmatrix}$，那么 $RN = [IF - IF\\ 0] = 0$。 \n",
    "\n",
    "仍以  $A = \\begin{bmatrix} 1 & 2 & 2 & 2 \\\\  2 & 4 & 6 & 8 \\\\ 3 & 6 & 8 & 10 \\end{bmatrix}$ 为例，其对应的 $R = \\begin{bmatrix} 1 & 2 & 0 & -2 \\\\  0 & 0 & 1 & 2 \\\\ 0 & 0 & 0 & 0 \\end{bmatrix}$。进行变化，得到新的矩阵 $R = \\begin{bmatrix} 1 & 0 & 2 & -2 \\\\  0 & 1 & 0 & 2 \\end{bmatrix}$。"
   ]
  },
  {
   "cell_type": "code",
   "execution_count": null,
   "metadata": {
    "collapsed": true
   },
   "outputs": [],
   "source": []
  }
 ],
 "metadata": {
  "kernelspec": {
   "display_name": "Python 3",
   "language": "python",
   "name": "python3"
  },
  "language_info": {
   "codemirror_mode": {
    "name": "ipython",
    "version": 3
   },
   "file_extension": ".py",
   "mimetype": "text/x-python",
   "name": "python",
   "nbconvert_exporter": "python",
   "pygments_lexer": "ipython3",
   "version": "3.6.2"
  }
 },
 "nbformat": 4,
 "nbformat_minor": 2
}
