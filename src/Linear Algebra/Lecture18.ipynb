{
 "cells": [
  {
   "cell_type": "markdown",
   "metadata": {},
   "source": [
    "# 第十八讲 行列式及其性质\n",
    "\n",
    "矩阵 $A$ 的**行列式**（Determinant）记作 $detA$ 或者 $|A|$。其具有以下性质\n",
    "\n",
    "1. **性质一**：单位矩阵的行列式等于 $1$，即 $detI = 1$\n",
    "2. **性质二**：如果交换矩阵中的两行，行列式的值会变成它的相反数，即 $detA' = -detA$\n",
    "\n",
    "    由**性质一**和**性质二**可知，对于置换矩阵 $P$，当置换次数为偶数时，行列式为 $1$; 为奇数时，行列式为 $-1$，即 $detP = \\left\\{\\begin{matrix}1 & even \\\\ -1 & odd\\end{matrix}\\right.$。\n",
    "\n",
    "3. **性质三**：矩阵的行列式满足一定的线性组合，$\\begin{vmatrix} ta & tb \\\\ c & d\\end{vmatrix} = t\\begin{vmatrix} a & b \\\\ c & d \\end{vmatrix}, \\begin{vmatrix} a + a' & b + b' \\\\ c & d\\end{vmatrix} = \\begin{vmatrix} a & b \\\\ c & d \\end{vmatrix} + \\begin{vmatrix} a' & b' \\\\ c & d \\end{vmatrix}$\n",
    "\n",
    "4. **性质四**：如果矩阵中有两行相等，那么行列式一定为零。证明，如果交换两个相等行，行列式会变成相反数（**性质二**），但是矩阵却没变，则 $detA = -detA \\Rightarrow detA = 0$。\n",
    "\n",
    "5. **性质五**：从 $row_i$ 中减去 $l * row_j$ 后，矩阵的行列式不变。\n",
    "    \n",
    "    证明，$\\begin{vmatrix}a & b \\\\ c - la & d - lb \\end{vmatrix} \\Rightarrow \\begin{vmatrix} a & b \\\\ c & d \\end{vmatrix} - l\\begin{vmatrix}a & b \\\\ a & b\\end{vmatrix} \\xrightarrow{性质四} \\begin{vmatrix} a & b \\\\ c & d \\end{vmatrix}$\n",
    "    \n",
    "6. **性质六**：如果矩阵中有一行全为零，那么矩阵的行列式为零。证明，根据**性质三**有 $k * detA = \\begin{vmatrix}k * 0 & k * 0 \\\\ a & b \\end{vmatrix} = \\begin{vmatrix}0 & 0 \\\\ a & b \\end{vmatrix} = detA \\Rightarrow detA = 0$。\n",
    "\n",
    "7. **性质七**：三角行矩阵的行列式等于对角线的积。\n",
    "\n",
    "    证明：分两种情况，如果主元（对角线上的元素）均非零，那么上三角矩阵可以转化成对角线矩阵 $ U = D \\xrightarrow{性质三} \\sum^n_{i=1}I$；如果主元中有元素为零，那么矩阵中一定有一行元素全为零，根据**性质四**，矩阵的行列式为零。\n",
    "    \n",
    "8. **性质八**：奇异矩阵的行列式一定为零；非奇异矩阵的行列式一定不为零。证明：非奇异矩阵可以化简为对角线矩阵。\n",
    "9. **性质九**：\n",
    "    * $detAB = detA * detB$\n",
    "    * $detA^{-1} = detA$\n",
    "    * $detA^2 = (detA)^2$\n",
    "    * $det2A = 2^ndetA$\n",
    "    \n",
    "10. **性质十**：置换矩阵的行列式等于原矩阵的行列式，即 $detA^T = detA$。\n",
    "\n",
    "    证明：矩阵 $A$ 可以分解为三角矩阵 $U$ 和矩阵 $L$，$|U^T| = |U|$，$|U^TL^T| = |LU| \\Rightarrow |U^T||L^T| = |L||U|$。"
   ]
  },
  {
   "cell_type": "code",
   "execution_count": null,
   "metadata": {
    "collapsed": true
   },
   "outputs": [],
   "source": []
  }
 ],
 "metadata": {
  "kernelspec": {
   "display_name": "Python 3",
   "language": "python",
   "name": "python3"
  },
  "language_info": {
   "codemirror_mode": {
    "name": "ipython",
    "version": 3
   },
   "file_extension": ".py",
   "mimetype": "text/x-python",
   "name": "python",
   "nbconvert_exporter": "python",
   "pygments_lexer": "ipython3",
   "version": "3.6.2"
  }
 },
 "nbformat": 4,
 "nbformat_minor": 2
}
