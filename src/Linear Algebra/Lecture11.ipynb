{
 "cells": [
  {
   "cell_type": "markdown",
   "metadata": {},
   "source": [
    "# 第十一讲 矩阵空间、秩1矩阵和小世界图\n",
    "\n",
    "## 矩阵空间\n",
    "\n",
    "矩阵空间（Matrix Space）是将矩阵看做向量组成的空间，例如全部的 $3 * 3$ 矩阵，记作 $M$，和它的子空间：对称矩阵（Symmetric Matric）、上三角矩阵（Upper Triangular Matrix）、对角线矩阵（Diagonal Matrix）。\n",
    "\n",
    "对于 $3 * 3$ 的矩阵空间，它的维度 $dimM = 9$，而它的标准基：$$\\begin{bmatrix} 1 & 0 & 0\\\\ 0 & 0 & 0 \\\\ 0 & 0 & 0 \\end{bmatrix}, \\begin{bmatrix} 0 & 1 & 0\\\\ 0 & 0 & 0 \\\\ 0 & 0 & 0 \\end{bmatrix}, \\begin{bmatrix} 0 & 0 & 1\\\\ 0 & 0 & 0 \\\\ 0 & 0 & 0 \\end{bmatrix}, \\begin{bmatrix} 0 & 0 & 0\\\\ 1 & 0 & 0 \\\\ 0 & 0 & 0 \\end{bmatrix},\\begin{bmatrix} 0 & 0 & 0\\\\ 0 & 1 & 0 \\\\ 0 & 0 & 0 \\end{bmatrix},  \\begin{bmatrix} 0 & 0 & 0\\\\ 0 & 0 & 1 \\\\ 0 & 0 & 0 \\end{bmatrix}, \\begin{bmatrix} 0 & 0 & 0 \\\\ 0 & 0 & 0 \\\\ 1 & 0 & 0 \\end{bmatrix}, \\begin{bmatrix} 0 & 0 & 0 \\\\ 0 & 0 & 0 \\\\ 0 & 1 & 0 \\end{bmatrix}, \\begin{bmatrix} 0 & 0 & 0\\\\ 0 & 0 & 0 \\\\ 0 & 0 & 1 \\end{bmatrix}$$\n",
    "\n",
    "而 $M$ 的子空间有：\n",
    "* 对称矩阵（$S$），$dimS = 6$\n",
    "* 上三角矩阵（$U$），$dimU = 6$\n",
    "* 对角线矩阵（$D$），$dimD = 3$\n",
    "\n",
    "注意：矩阵 $S \\cup U$ 不是一个矩阵空间，而矩阵 $S \\cap U = D$，矩阵 $S + U = M$ 均为矩阵空间，并且有 $dimM + dimD = dimS + dimU$。"
   ]
  },
  {
   "cell_type": "markdown",
   "metadata": {},
   "source": [
    "## 秩1矩阵\n",
    "\n",
    "秩1矩阵（Rank 1 Matrix）即矩阵秩等于1的矩阵，它的特殊性质在于可以划分为 $UV^T$ 形式，其中 $V$ 为基。并且所有的矩阵均可以由多个秩1矩阵组合得到。注意：一个秩为 $a$ 的矩阵加上一个秩为 $b$ 的矩阵，通常得到的矩阵秩大于 $a, b$ 小于 $a + b$。\n",
    "\n",
    "考虑 $\\mathbb{R}^4$ 中的所有满足 $v_1 + v_2 + v_3 + v_4 = 0$ 的向量 $v = \\begin{bmatrix} v_1 \\\\ v_2 \\\\ v_3 \\\\ v_4 \\end{bmatrix}$，组成的向量空间 $S$，$S$ 一定是 $\\mathbb{R}^4$ 的向量子空间。从另一个角度看，$v_1 + v_2 + v_3 + v4 = 0$ 等价于 $[1,\\ 1,\\ 1, 1]\\begin{bmatrix} v_1 \\\\ v_2 \\\\ v_3 \\\\ v_4 \\end{bmatrix} = 0$，则 $S$ 为矩阵 $[1,\\ 1,\\ 1, 1]$ 的零空间。\n",
    "\n"
   ]
  },
  {
   "cell_type": "markdown",
   "metadata": {},
   "source": [
    "## 小世界图\n",
    "\n",
    "图（Graph）是有结点（Node）和边（Edge）构成的，如果将世界上的每个人看做一个结点，将朋友关系看做边，通常来说，从一个节点到另一个节点只需要不超过 $6$ 步即可到达。"
   ]
  },
  {
   "cell_type": "code",
   "execution_count": null,
   "metadata": {
    "collapsed": true
   },
   "outputs": [],
   "source": []
  }
 ],
 "metadata": {
  "kernelspec": {
   "display_name": "Python 3",
   "language": "python",
   "name": "python3"
  },
  "language_info": {
   "codemirror_mode": {
    "name": "ipython",
    "version": 3
   },
   "file_extension": ".py",
   "mimetype": "text/x-python",
   "name": "python",
   "nbconvert_exporter": "python",
   "pygments_lexer": "ipython3",
   "version": "3.6.2"
  }
 },
 "nbformat": 4,
 "nbformat_minor": 2
}
