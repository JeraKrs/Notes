{
 "cells": [
  {
   "cell_type": "markdown",
   "metadata": {},
   "source": [
    "# 第三十四讲 左右逆和伪逆\n",
    "\n",
    "当矩阵 $A$ 的行数、列数和秩均相等时，即满秩的方阵，矩阵存在逆矩阵，且左逆等于右逆，即 $AA^{-1} = I = A^{-1}A$。但是对于长方矩阵而言，左逆就不等于右逆了。\n",
    "\n",
    "## 左逆（Left-inverse）\n",
    "\n",
    "当矩阵列满秩时，即 $r=n<m$，矩阵列线性无关。此时矩阵存在左逆，$A_{left}^{-1} = (A^TA)^{-1}A^T$。\n",
    "\n",
    "考虑矩阵 $A^TA$，它是一个 $n*n$ 的方阵，并且 $rank(A^TA) = n$，所以矩阵可逆。但是对于矩阵 $AA^T$，它是一个 $m*m$ 的方阵，因为 $rank(AA^T) = n < m$，所以矩阵不可逆。"
   ]
  },
  {
   "cell_type": "markdown",
   "metadata": {},
   "source": [
    "## 右逆（Right-inverse）\n",
    "\n",
    "当矩阵行满秩时，即 $r = m < n$，矩阵行线性无关。此时矩阵存在右逆，$A^{-1}_{right} = A^T(AA^T)$。\n",
    "\n",
    "如果将一个矩阵的右逆对矩阵进行左乘，有 $A^T(AA^T)A$，很显然这是一个投影矩阵，只不过 $A$ 变成了 $A^T$，所以该投影矩阵会将向量投影到 $A$ 的行空间上。"
   ]
  },
  {
   "cell_type": "markdown",
   "metadata": {},
   "source": [
    "## 伪逆（Pseudo-inverse）\n",
    "\n",
    "当矩阵既不列满秩，也不行满秩时，即 $r < min(n, m)$，矩阵不存在左右逆。\n",
    "\n",
    "现在任取一个行空间上的向量 $x$，$Ax$ 一定落在矩阵的列空间上（看作是矩阵列向量的线性组合）。此时考虑向量 $x$ 在矩阵零空间上的情况，则有 $Ax = 0$，而零向量在矩阵的左零空间上，左零空间与列空间在 $\\mathbb{R}^m$ 上互补。于是有结论，行空间上的向量与列空间上的向量对应的关系，即 $x \\rightarrow Ax$。\n",
    "\n",
    "接下来证明该对应关系为一一对应的，假设有 $x, y \\in R(A)$，且 $x ≠ y$ ，有 $Ax = Ay$。此时 $A(x - y) = 0$，可得向量 $x - y$ 位于矩阵的零空间上，则有 $x, y \\in N(A)$，与 $x, y \\in R(A)$ 矛盾，所以该对应关系为一一对应。\n",
    "\n",
    "所以有结论，行空间中的向量通过矩阵 $A$ 的变换，会得到列空间中唯一的向量，记作 $y = Ax, x \\in R(A), y \\in C(A)$。而伪逆的作用就是将列空间的向量一一映射到行空间中，记作 $A^{+}$，有 $y = A^{+}(Ay)$。"
   ]
  },
  {
   "cell_type": "markdown",
   "metadata": {},
   "source": [
    "**计算伪逆**\n",
    "\n",
    "这里介绍了一种奇异值分解的方法，$A = U\\Sigma V^T$，这里的对角线矩阵有 $\\Sigma = \\left[\\begin{array}{ccc|c}\\sigma_1& & & \\\\ &\\ddots& & \\\\ & &\\sigma_r&\\\\\\hline & & &[0]\\end{array}\\right]$，对角线部分来自 $AA^T$的特征值，矩阵的大小为 $m*n$。而它的伪逆是一个 $n*m$ 的矩阵，有 $\\Sigma^{+} = \\left[\\begin{array}{ccc|c}\\frac{1}{\\sigma_1}& & & \\\\ &\\ddots& & \\\\ & &\\frac{1}{\\sigma_r}&\\\\\\hline & & &[0]\\end{array}\\right]$，而我们要求的 $A^{+} = U\\Sigma^{+}V^T$。"
   ]
  }
 ],
 "metadata": {
  "kernelspec": {
   "display_name": "Python 3",
   "language": "python",
   "name": "python3"
  },
  "language_info": {
   "codemirror_mode": {
    "name": "ipython",
    "version": 3
   },
   "file_extension": ".py",
   "mimetype": "text/x-python",
   "name": "python",
   "nbconvert_exporter": "python",
   "pygments_lexer": "ipython3",
   "version": "3.6.2"
  }
 },
 "nbformat": 4,
 "nbformat_minor": 2
}
