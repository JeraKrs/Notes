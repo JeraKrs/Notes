{
 "cells": [
  {
   "cell_type": "markdown",
   "metadata": {},
   "source": [
    "# 第二十六讲 对称矩阵及正定性\n",
    "\n",
    "## 对称矩阵\n",
    "\n",
    "对称矩阵（Symmetric Matrix）具有两个特性：\n",
    "* 特征值均为实数\n",
    "* 特征向量相互正交\n",
    "\n",
    "在通常情况下，一个矩阵可以化为 $S\\Lambda S^{−1}$ 的形式。而对于对称矩阵有 $A = Q\\Lambda Q^{-1} = Q\\Lambda Q^T$，该定理为谱定理（Spectral Theorem）。"
   ]
  },
  {
   "cell_type": "markdown",
   "metadata": {},
   "source": [
    "为什么对称矩阵的特征值均为实数？对于 $Ax = \\lambda x$，有共轭 $\\bar{A}\\bar{x} = \\bar{\\lambda}\\bar{x}$，对其做转置有 $\\bar{x}^T\\bar{A} = \\bar{x}^T\\bar{\\lambda}$。\n",
    "\n",
    "考虑矩阵 $A$ 为实矩阵的情况，$A = \\bar{A}$，那么有 $\\bar{x}^TA = \\bar{x}^T\\bar{\\lambda}$，等式两边同乘以 $x$ 有 $ \\lambda \\bar{x}^T x = \\bar{\\lambda}\\bar{x}^T x$，因为 $\\bar{x}^Tx ≠ 0$，所以有 $\\lambda = \\bar{\\lambda}$，得证 $\\lambda$ 为实数。\n",
    "\n",
    "论证 $\\bar{x}^Tx ≠ 0$，展开 $\\bar{x}^Tx = \\begin{bmatrix} \\bar{x_1}, \\bar{x_2}, \\dots, \\bar{x_n}\\end{bmatrix}\\begin{bmatrix} x_1 \\\\ x_2 \\\\ \\vdots \\\\ x_n\\end{bmatrix} = \\bar{x_1}x_1 + \\dots + \\bar{x_n}x_n$，如果 $x_i = a_i + b_i i, \\bar{x_i} = a_i - b_i i$，则有 $\\bar{x_i}x_i = a^2 + b^2 ≥ 0$。当 $x ≠ 0$ 时，$\\bar{x}^Tx ≠ 0$。\n",
    "\n",
    "而对于复数矩阵，则还需要满足 $A = \\bar{A}^T$。\n",
    "\n",
    "注意：**主元符号的正负数量与特征值的正负数量相同**。"
   ]
  },
  {
   "cell_type": "markdown",
   "metadata": {},
   "source": [
    "## 正定性\n",
    "\n",
    "正定矩阵指特征值均为正数的矩阵，即所有主元均为正数。\n",
    "\n",
    "举个例子，$\\begin{bmatrix}5 & 2 \\\\ 2 & 3\\end{bmatrix}$，该矩阵的主元为 $5, \\frac{11}{5}$，特征值为 $\\lambda_1 = 4 + \\sqrt{5}, \\lambda_2 = 4 - \\sqrt{5}$。\n",
    "\n",
    "正定矩阵的另一个性质是，所有子行列式为正。"
   ]
  },
  {
   "cell_type": "code",
   "execution_count": null,
   "metadata": {
    "collapsed": true
   },
   "outputs": [],
   "source": []
  }
 ],
 "metadata": {
  "kernelspec": {
   "display_name": "Python 3",
   "language": "python",
   "name": "python3"
  },
  "language_info": {
   "codemirror_mode": {
    "name": "ipython",
    "version": 3
   },
   "file_extension": ".py",
   "mimetype": "text/x-python",
   "name": "python",
   "nbconvert_exporter": "python",
   "pygments_lexer": "ipython3",
   "version": "3.6.2"
  }
 },
 "nbformat": 4,
 "nbformat_minor": 2
}
