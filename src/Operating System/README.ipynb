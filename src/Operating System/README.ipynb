{
 "cells": [
  {
   "cell_type": "markdown",
   "metadata": {},
   "source": [
    "# 操作系统\n",
    "\n",
    "> 作者: [Jerakrs](http://jerakrs.com/)\n",
    "> \n",
    "> 完成日期: 2018 年 06 月 30 日\n",
    "\n",
    "## 主要内容\n",
    "\n",
    "清华大学操作系统公开课笔记，笔记使用 jupyter notebook 编写展示，项目可在 [Nbviewer](http://nbviewer.jupyter.org/github/JeraKrs/Notes/blob/master/src/Operating%20System/README.ipynb) 中查看。\n",
    "\n",
    "## 目录\n",
    "\n",
    "* [第一讲 基本概念及原理](http://nbviewer.jupyter.org/github/JeraKrs/Notes/blob/master/src/Operating%20System/Chapter01.ipynb)\n",
    "* [第二讲 操作系统的启动、中断、异常和系统调用](http://nbviewer.jupyter.org/github/JeraKrs/Notes/blob/master/src/Operating%20System/Chapter02.ipynb)\n",
    "* [第三讲 内存地址和连续内存的分配](http://nbviewer.jupyter.org/github/JeraKrs/Notes/blob/master/src/Operating%20System/Chapter03.ipynb)\n",
    "* [第四讲 非连续内存分配](http://nbviewer.jupyter.org/github/JeraKrs/Notes/blob/master/src/Operating%20System/Chapter04.ipynb)\n",
    "* [第五讲 虚拟内存](http://nbviewer.jupyter.org/github/JeraKrs/Notes/blob/master/src/Operating%20System/Chapter05.ipynb)\n",
    "* [第六讲 页面置换算法](http://nbviewer.jupyter.org/github/JeraKrs/Notes/blob/master/src/Operating%20System/Chapter06.ipynb)\n",
    "* [第七讲 进程](http://nbviewer.jupyter.org/github/JeraKrs/Notes/blob/master/src/Operating%20System/Chapter07.ipynb)\n",
    "* [第八讲 调度算法](http://nbviewer.jupyter.org/github/JeraKrs/Notes/blob/master/src/Operating%20System/Chapter08.ipynb)\n",
    "* [第九讲 同步](http://nbviewer.jupyter.org/github/JeraKrs/Notes/blob/master/src/Operating%20System/Chapter09.ipynb)\n",
    "* [第十讲 信号量和管程](http://nbviewer.jupyter.org/github/JeraKrs/Notes/blob/master/src/Operating%20System/Chapter10.ipynb)\n",
    "* [第十一讲 死锁](http://nbviewer.jupyter.org/github/JeraKrs/Notes/blob/master/src/Operating%20System/Chapter11.ipynb)\n",
    "* [第十二讲 文件系统](http://nbviewer.jupyter.org/github/JeraKrs/Notes/blob/master/src/Operating%20System/Chapter12.ipynb)\n",
    "* [总结](http://nbviewer.jupyter.org/github/JeraKrs/Notes/blob/master/src/Operating%20System/Summary.ipynb)\n",
    "\n",
    "\n",
    "## 参考文献\n",
    "\n",
    "* 清华大学公开课：操作系统（[Git](https://github.com/chyyuu/os_course_info)），讲师：陈渝，清华大学。\n",
    "* uCore OS实验指导书和源码网址（[Gitbook](https://objectkuan.gitbooks.io/ucore-docs/content/)）。\n"
   ]
  }
 ],
 "metadata": {
  "kernelspec": {
   "display_name": "Python 3",
   "language": "python",
   "name": "python3"
  },
  "language_info": {
   "codemirror_mode": {
    "name": "ipython",
    "version": 3
   },
   "file_extension": ".py",
   "mimetype": "text/x-python",
   "name": "python",
   "nbconvert_exporter": "python",
   "pygments_lexer": "ipython3",
   "version": "3.6.2"
  }
 },
 "nbformat": 4,
 "nbformat_minor": 2
}
