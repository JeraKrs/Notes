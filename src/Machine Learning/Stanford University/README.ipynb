{
 "cells": [
  {
   "cell_type": "markdown",
   "metadata": {},
   "source": [
    "# Machine Learning created by Stanford\n",
    "\n",
    "> Author: [Jerakrs](http://jerakrs.com/)\n",
    ">\n",
    "> Date of Completion: 15/July/2018\n",
    "\n",
    "\n",
    "## Overview\n",
    "\n",
    "The note is powered by jupyter notebook, which can view in [Nbviewer](http://nbviewer.jupyter.org/github/JeraKrs/Notes/blob/master/src/Machine%20Learning/Stanford%20University/README.ipynb).\n",
    "\n",
    "\n",
    "## Lectures\n",
    "\n",
    "* [Lecture01 Introduction](http://nbviewer.jupyter.org/github/JeraKrs/Notes/blob/master/src/Machine%20Learning/Stanford%20University/Lecture01.ipynb)\n",
    "* [Lecture02 Linear Regression with One Variable](http://nbviewer.jupyter.org/github/JeraKrs/Notes/blob/master/src/Machine%20Learning/Stanford%20University/Lecture02.ipynb)\n",
    "* [Lecture03 Linear Regression with Multiple Variables](http://nbviewer.jupyter.org/github/JeraKrs/Notes/blob/master/src/Machine%20Learning/Stanford%20University/Lecture03.ipynb)\n",
    "* [Lecture04 Octave/Matlab Tutorial](http://nbviewer.jupyter.org/github/JeraKrs/Notes/blob/master/src/Machine%20Learning/Stanford%20University/Lecture04.ipynb)\n",
    "* [Lecture05 Logistic Regression](http://nbviewer.jupyter.org/github/JeraKrs/Notes/blob/master/src/Machine%20Learning/Stanford%20University/Lecture05.ipynb)\n",
    "* [Lecture06 Regularization](http://nbviewer.jupyter.org/github/JeraKrs/Notes/blob/master/src/Machine%20Learning/Stanford%20University/Lecture06.ipynb)\n",
    "* [Lecture07 Neural Networks: Representation](http://nbviewer.jupyter.org/github/JeraKrs/Notes/blob/master/src/Machine%20Learning/Stanford%20University/Lecture07.ipynb)\n",
    "* [Lecture08 Neural Networks: Learning](http://nbviewer.jupyter.org/github/JeraKrs/Notes/blob/master/src/Machine%20Learning/Stanford%20University/Lecture08.ipynb)\n",
    "* [Lecture09 Advice for Applying Machine Learning](http://nbviewer.jupyter.org/github/JeraKrs/Notes/blob/master/src/Machine%20Learning/Stanford%20University/Lecture09.ipynb)\n",
    "* [Lecture10 Machine Learning System Design](http://nbviewer.jupyter.org/github/JeraKrs/Notes/blob/master/src/Machine%20Learning/Stanford%20University/Lecture10.ipynb)\n",
    "* [Lecture11 Support Vector Machines](http://nbviewer.jupyter.org/github/JeraKrs/Notes/blob/master/src/Machine%20Learning/Stanford%20University/Lecture11.ipynb)\n",
    "* [Lecture12 Unsupervised Learning](http://nbviewer.jupyter.org/github/JeraKrs/Notes/blob/master/src/Machine%20Learning/Stanford%20University/Lecture12.ipynb)\n",
    "* [Lecture13 Dimensionality Reduction](http://nbviewer.jupyter.org/github/JeraKrs/Notes/blob/master/src/Machine%20Learning/Stanford%20University/Lecture13.ipynb)\n",
    "* [Lecture14 Anomaly Detection](http://nbviewer.jupyter.org/github/JeraKrs/Notes/blob/master/src/Machine%20Learning/Stanford%20University/Lecture14.ipynb)\n",
    "* [Lecture15 Recommender Systems](http://nbviewer.jupyter.org/github/JeraKrs/Notes/blob/master/src/Machine%20Learning/Stanford%20University/Lecture15.ipynb)\n",
    "* [Lecture16 Large Scale Machine Learning](http://nbviewer.jupyter.org/github/JeraKrs/Notes/blob/master/src/Machine%20Learning/Stanford%20University/Lecture16.ipynb)\n",
    "* [Lecture17 Application Example: Photo OCR](http://nbviewer.jupyter.org/github/JeraKrs/Notes/blob/master/src/Machine%20Learning/Stanford%20University/Lecture17.ipynb)\n",
    "\n",
    "## Exercises\n",
    "\n",
    "* [Exercise01 Linear Regression](https://github.com/JeraKrs/notes/tree/master/src/Machine%20Learning/Stanford%20University/Exercise01)\n",
    "* [Exercise02 Logistic Regression](https://github.com/JeraKrs/notes/tree/master/src/Machine%20Learning/Stanford%20University/Exercise02)\n",
    "* [Exercise03 Multi-class Classification and Neural Networks](https://github.com/JeraKrs/notes/tree/master/src/Machine%20Learning/Stanford%20University/Exercise03)\n",
    "* [Exercise04 Neural Network Learning](https://github.com/JeraKrs/notes/tree/master/src/Machine%20Learning/Stanford%20University/Exercise04)\n",
    "* [Exercise05 Regularized Linear Regression and Bias/Variance](https://github.com/JeraKrs/notes/tree/master/src/Machine%20Learning/Stanford%20University/Exercise05)\n",
    "* [Exercise06 Support Vector Machines](https://github.com/JeraKrs/notes/tree/master/src/Machine%20Learning/Stanford%20University/Exercise06)\n",
    "* [Exercise07 K-Means Clustering and PCA](https://github.com/JeraKrs/notes/tree/master/src/Machine%20Learning/Stanford%20University/Exercise07)\n",
    "* [Exercise08 Anomaly Detection and Recommender Systems](https://github.com/JeraKrs/notes/tree/master/src/Machine%20Learning/Stanford%20University/Exercise08)\n",
    "\n",
    "\n",
    "## Materials\n",
    "\n",
    "* [Lectures](https://drive.google.com/drive/u/0/folders/1z1e6ZSaapqdH-WRPflpIDhGBEyqSGg5F)\n",
    "* [Exercises](https://drive.google.com/drive/u/0/folders/1XYd9JOPSHR4GozwBRVL1d5bXDCGEZLSU)\n",
    "\n",
    "\n",
    "## References\n",
    "\n",
    "* The open courses of machine learning in Stanford University ([Coursera](https://www.coursera.org/learn/machine-learning/home/welcome))"
   ]
  }
 ],
 "metadata": {
  "kernelspec": {
   "display_name": "Python 3",
   "language": "python",
   "name": "python3"
  },
  "language_info": {
   "codemirror_mode": {
    "name": "ipython",
    "version": 3
   },
   "file_extension": ".py",
   "mimetype": "text/x-python",
   "name": "python",
   "nbconvert_exporter": "python",
   "pygments_lexer": "ipython3",
   "version": "3.6.2"
  }
 },
 "nbformat": 4,
 "nbformat_minor": 2
}
