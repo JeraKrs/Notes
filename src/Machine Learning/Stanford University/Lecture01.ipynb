{
 "cells": [
  {
   "cell_type": "markdown",
   "metadata": {},
   "source": [
    "# Lecture01 Introduction\n",
    "\n",
    "## Definition\n",
    "\n",
    "**Two Definitions of Machine Learning**\n",
    "\n",
    "*Arthur Samuel* described it as: \"the field of study that gives computers the ability to learn without being explicitly programmed.\" This is an older, informal definition.\n",
    "\n",
    "*Tom Mitchell* provides a more modern definition: \"A computer program is said to learn from experience E with respect to some class of tasks T and performance measure P, if its performance at tasks in T, as measured by P, improves with experience E.\"\n",
    "\n",
    "Example: playing checkers.\n",
    "* E = the experience of playing many games of checkers\n",
    "* T = the task of playing checkers.\n",
    "* P = the probability that the program will win the next game.\n",
    "\n",
    "**Two Classifications of Machine Learning**: Supervised learning and Unsupervised learning."
   ]
  },
  {
   "cell_type": "markdown",
   "metadata": {
    "collapsed": true
   },
   "source": [
    "## Supervised Learning\n",
    "\n",
    "**Supervised learning**: the given data set already know what is the correct output should look like, having the idea that there is a relationship between the input and the output.\n",
    "\n",
    "Supervised learning problems are categorized into **regression** and **classification** problems:\n",
    "* **Regression Problem**: to predict results within a continuous output.\n",
    "* **Classification Problem**: to predict results in a discrete output."
   ]
  },
  {
   "cell_type": "markdown",
   "metadata": {},
   "source": [
    "## Unsupervised Learning\n",
    "\n",
    "**Unsupervised learning**: allows us to approach problems with little or no idea what our results should look like.\n",
    "\n",
    "Example:\n",
    "* Clustering: Take a collection of 1,000,000 different genes, and find a way to automatically group these genes into groups that are somehow similar or related by different variables, such as lifespan, location, roles, and so on.\n",
    "* Non-clustering: The \"Cocktail Party Algorithm\", allows you to find structure in a chaotic environment. (i.e. identifying individual voices and music from a mesh of sounds at a cocktail party)."
   ]
  }
 ],
 "metadata": {
  "kernelspec": {
   "display_name": "Python 3",
   "language": "python",
   "name": "python3"
  },
  "language_info": {
   "codemirror_mode": {
    "name": "ipython",
    "version": 3
   },
   "file_extension": ".py",
   "mimetype": "text/x-python",
   "name": "python",
   "nbconvert_exporter": "python",
   "pygments_lexer": "ipython3",
   "version": "3.6.2"
  }
 },
 "nbformat": 4,
 "nbformat_minor": 2
}
