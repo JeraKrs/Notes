{
 "cells": [
  {
   "cell_type": "markdown",
   "metadata": {},
   "source": [
    "# Lecture17 Application Example: Photo OCR\n",
    "\n",
    "**Photo OCR pipeline**:\n",
    "* Text detection.\n",
    "* Character segmentation.\n",
    "* Character recognition.\n",
    "\n",
    "**Sliding windows**: using different size of windows to scan the photo.\n",
    "\n",
    "**Data synthesis**: synthesizing data by introducing distortions to get more data, the Distortion introduced should be representation of the type of noise/distortions in the test set.\n",
    "\n",
    "**Discussion on getting more data**:\n",
    "1. Make sure it has a low bias classifier before expending the effort.\n",
    "2. Estimated workload\n",
    "    * Artificial data synthesis.\n",
    "    * Collect/label it yourself.\n",
    "    * “Crowd source” (E.g. Amazon Mechanical).\n",
    "\n",
    "**Ceiling analysis**: Estimating the errors due to each component."
   ]
  }
 ],
 "metadata": {
  "kernelspec": {
   "display_name": "Python 3",
   "language": "python",
   "name": "python3"
  },
  "language_info": {
   "codemirror_mode": {
    "name": "ipython",
    "version": 3
   },
   "file_extension": ".py",
   "mimetype": "text/x-python",
   "name": "python",
   "nbconvert_exporter": "python",
   "pygments_lexer": "ipython3",
   "version": "3.6.2"
  }
 },
 "nbformat": 4,
 "nbformat_minor": 2
}
