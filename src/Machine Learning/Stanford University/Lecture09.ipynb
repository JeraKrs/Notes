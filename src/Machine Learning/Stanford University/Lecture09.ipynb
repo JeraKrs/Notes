{
 "cells": [
  {
   "cell_type": "markdown",
   "metadata": {},
   "source": [
    "# Lecture09 Advice for Applying Machine Learning\n",
    "\n",
    "## Evaluating a Learning Algorithm\n",
    "\n",
    "### Evaluating a Hypothesis\n",
    "\n",
    "For unacceptably large erros:\n",
    "* Getting more training examples.\n",
    "* Trying smaller sets of features.\n",
    "* Trying additional features.\n",
    "* Trying polynomial features.\n",
    "* Increasing or decreasing $\\lambda$.\n",
    "\n",
    "**Diagnostic**: A test that you can run to again insight what is/isn't working with a learning algorithm, and gain guidance as to how best to improve its performance it can take time to implement, but doing so can be a very good use of your time.\n",
    "\n",
    "The procedures of evaluating a hypothesis:\n",
    "1. divide the dataset to two parts, 70% for training set and 30% for test set.\n",
    "2. learn parameter $\\theta$ form training data (minimizing training error $J_{training}(\\Theta)$.\n",
    "3. Computee test set error $J_{test}(\\Theta)$.\n",
    "\n",
    "\n",
    "### Model Selection and Train/Validation/Test Sets\n",
    "\n",
    "To break down our dataset into the three sets is:\n",
    "* Training set: 60%\n",
    "* Cross validation set: 20%\n",
    "* Test set: 20%\n",
    "\n",
    "Calculate three separate error values for the three different sets using the following method:\n",
    "\n",
    "* Optimize the parameters in $\\Theta$ using the training set for each polynomial degree.\n",
    "* Find the polynomial degree d with the least error using the cross validation set.\n",
    "* Estimate the generalization error using the test set with $J_{test}(\\Theta^{(d)})$, (d = theta from polynomial with lower error)."
   ]
  },
  {
   "cell_type": "markdown",
   "metadata": {},
   "source": [
    "## Bias vs. Variance\n",
    "\n",
    "### Diagnosing Bias vs. Variance\n",
    "\n",
    "* High bias (underfitting): both $J_{train}(\\Theta)$ and $J_{CV}(\\Theta)$ will be high. Also, $J_{CV}(\\Theta) \\approx J_{train}(\\Theta)$.\n",
    "* High variance (overfitting): $J_{train}(\\Theta)$ will be low and $J_{CV}(\\Theta)$ will be much greater than $J_{train}(\\Theta)$.\n",
    "\n",
    "The is summarized in the figure below:\n",
    "\n",
    "![](./images/figure09-01.png)\n",
    "\n",
    "### Regularization and Bias/Variance\n",
    "\n",
    "1. Create a list of lambdas.\n",
    "2. Create a set of models with different degrees or any other variants.\n",
    "3. Iterate through the $\\lambda$s and for each $\\lambda$ go through all the models to learn some $\\Theta$.\n",
    "4. Compute the cross validation error using the learned $\\Theta$ (computed with $\\lambda$) on the $J_{CV}(\\Theta)$ without regularization or $\\lambda=0$.\n",
    "5. Select the best combo that produces the lowest error on the cross validation set.\n",
    "6. Using the best combo $\\Theta$ and $\\lambda$, apply it on $J_{test}(\\Theta)$ to see if it has a good generalization of the problem.\n",
    "\n",
    "\n",
    "### Learning Curves\n",
    "\n",
    "**Experiencing high bias**:\n",
    "* Low training set size: causes $J_{train}(\\Theta)$ to be low and $J_{CV}(\\Theta)$ to be high.\n",
    "* Large training set size: causes both $J_{train}(\\Theta)$ and $J_{CV}(\\Theta)$ to be high with $J_{train}(\\Theta) \\approx J_{CV}(\\Theta)$.\n",
    "\n",
    "![](./images/figure09-02.png)\n",
    "\n",
    "**Experiencing high variance**:\n",
    "* Low training set size: $J_{train}(\\Theta)$ will be low and $J_{CV}(\\Theta)$ will be high.\n",
    "* Large training set size: $J_{train}(\\Theta)$ increases with training set size and $J_{CV}(\\Theta)$ continues to decrease without leveling off. Also, $J_{train}(\\Theta) < J_{CV}(\\Theta)$ but the difference between them remains significant.\n",
    "\n",
    "![](./images/figure09-03.png)\n"
   ]
  }
 ],
 "metadata": {
  "kernelspec": {
   "display_name": "Python 3",
   "language": "python",
   "name": "python3"
  },
  "language_info": {
   "codemirror_mode": {
    "name": "ipython",
    "version": 3
   },
   "file_extension": ".py",
   "mimetype": "text/x-python",
   "name": "python",
   "nbconvert_exporter": "python",
   "pygments_lexer": "ipython3",
   "version": "3.6.2"
  }
 },
 "nbformat": 4,
 "nbformat_minor": 2
}
