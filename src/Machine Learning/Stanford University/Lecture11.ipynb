{
 "cells": [
  {
   "cell_type": "markdown",
   "metadata": {},
   "source": [
    "# Lecture11 Support Vector Machines\n",
    "\n",
    "## Hypothesis\n",
    "**Logistic regression**: $min_{\\Theta} \\frac{1}{m} \\sum^m_{i=1} \\left [ y^{(i)}\\left( -log(h_{\\Theta}(x^{(i)}) \\right) - (1 - y^{(i)})\\left( log(1 - h_{\\Theta}(x^{(i)}) \\right) \\right ] + \\frac{\\lambda}{2m}\\sum^n_{j=1}\\theta^2_j$\n",
    "\n",
    "**support vector machine**: $min_{\\Theta} C \\sum^m_{i=1} \\left [ y^{(i)} cost_{1}(\\Theta^Tx^{(i)}) - (1 - y^{(i)})cost_{0}(\\Theta^Tx^{(i)}) \\right ] + \\frac{\\lambda}{2m}\\sum^n_{j=1}\\theta^2_j$"
   ]
  },
  {
   "cell_type": "markdown",
   "metadata": {},
   "source": [
    "## Kernels and Similarity\n",
    "\n",
    "$f_i = similarity(x, l^{(i)})$\n",
    "\n",
    "Predict 1 when: $\\theta_0 + \\theta_1 * f_1 + \\theta_2 * f_2 + \\theta_3 * f_3 \\geq 0$\n",
    "\n",
    "**SVM with Kernels**:\n",
    "$min_{\\Theta} C \\sum^m_{i=1} \\left [ y^{(i)} cost_{1}(\\Theta^Tf) - (1 - y^{(i)})cost_{0}(\\Theta^Tf) \\right ] + \\frac{\\lambda}{2m}\\sum^m_{j=1}\\theta^2_j$"
   ]
  },
  {
   "cell_type": "markdown",
   "metadata": {},
   "source": [
    "## SVM parameters\n",
    "\n",
    "**C** = $\\frac{1}{\\lambda}$:\n",
    "* Large C: Lower bias, high variance.\n",
    "* Small C: Higher bias, low variance.\n",
    "\n",
    "**$\\sigma^2$**: \n",
    "* Large $\\sigma^2$: features $f^{(i)}$ vary more smoothly, higher bias, lower variance.\n",
    "* Small $\\sigma^2$:features $f^{(i)}$ vary less smoothly, lower bias, higher variance."
   ]
  },
  {
   "cell_type": "markdown",
   "metadata": {},
   "source": [
    "## Logis(c regression vs. SVMs\n",
    "\n",
    "$n$ = number of features, $m$ = number of training examples.\n",
    "\n",
    "* If $n$ is large, use logistic regression, or SVM without a kernel (“linear kernel”).\n",
    "* If $n$ is small, m is intermediate, use SVM with Gaussian kernel.\n",
    "* If $n$ is small, m is large, create/add more features, then use logis2c regression or SVM without a kernel.\n",
    "* Neural network likely to work well for most of these secngs, but may be slower to train."
   ]
  }
 ],
 "metadata": {
  "kernelspec": {
   "display_name": "Python 3",
   "language": "python",
   "name": "python3"
  },
  "language_info": {
   "codemirror_mode": {
    "name": "ipython",
    "version": 3
   },
   "file_extension": ".py",
   "mimetype": "text/x-python",
   "name": "python",
   "nbconvert_exporter": "python",
   "pygments_lexer": "ipython3",
   "version": "3.6.2"
  }
 },
 "nbformat": 4,
 "nbformat_minor": 2
}
