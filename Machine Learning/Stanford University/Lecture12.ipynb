{
 "cells": [
  {
   "cell_type": "markdown",
   "metadata": {},
   "source": [
    "# Lecture12 Unsupervised Learning\n",
    "\n",
    "\n",
    "## K-means algorithm\n",
    "\n",
    "**Input**:\n",
    "* K = number of clusters.\n",
    "* Training set.\n",
    "\n",
    "\n",
    "**Procedures**:\n",
    "\n",
    "``` octave\n",
    "Randomly initalize K cluster centroids u1, u2, ..., uk.\n",
    "\n",
    "Repeat {\n",
    "    \n",
    "    for i=1 to m\n",
    "        c(i) := index of cluster centroid closest to x(i)\n",
    "    \n",
    "    for k=1 to K\n",
    "        u(k) := average of points assigned to cluster k\n",
    "\n",
    "}\n",
    "```\n",
    "\n",
    "\n",
    "**Optimization objective**:\n",
    "* $c^{(i)}$ = index of cluster to which example $x^{(i)}$ is currently assigned.\n",
    "* $\\mu_{k}$ = cluster centroid k.\n",
    "* $\\mu_{c^{(i)}}$ = cluster centroid of cluster to which example $x^{(i)}$ has been assigned.\n",
    "\n",
    "$$J(c^{(1)}, \\dots, c^{(m)}, \\mu_1, \\dots, \\mu_K) = \\frac{1}{m}\\sum^m_{i=1}||x^{(i)} - \\mu_{c^{(i)}}||^2$$\n",
    "\n",
    "The target is $min_{c, \\mu} J(c^{(1)}, \\dots, c^{(m)}, \\mu_1, \\dots, \\mu_K)$.\n",
    "\n",
    "\n",
    "**Local optima**:\n",
    "\n",
    "``` octave\n",
    "For i = 1 to 100 {\n",
    "    Randomly initalize K cluster centroids u1, u2, ..., uk.\n",
    "    Run K-means.\n",
    "    Compute cost function J.\n",
    "}\n",
    "\n",
    "Pick clustering that gave lowest cost J.\n",
    "```\n",
    "\n",
    "**Choosing the value of K**: Evaluate K-means based on a metric for how well it performs for that later purpose."
   ]
  },
  {
   "cell_type": "code",
   "execution_count": null,
   "metadata": {
    "collapsed": true
   },
   "outputs": [],
   "source": []
  }
 ],
 "metadata": {
  "kernelspec": {
   "display_name": "Python 3",
   "language": "python",
   "name": "python3"
  },
  "language_info": {
   "codemirror_mode": {
    "name": "ipython",
    "version": 3
   },
   "file_extension": ".py",
   "mimetype": "text/x-python",
   "name": "python",
   "nbconvert_exporter": "python",
   "pygments_lexer": "ipython3",
   "version": "3.6.2"
  }
 },
 "nbformat": 4,
 "nbformat_minor": 2
}
