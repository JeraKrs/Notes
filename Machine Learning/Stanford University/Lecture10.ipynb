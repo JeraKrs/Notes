{
 "cells": [
  {
   "cell_type": "markdown",
   "metadata": {},
   "source": [
    "# Lecture10 Machine Learning System Design\n",
    "\n",
    "## Prioritizing What to Work On\n",
    "\n",
    "To improve the accuracy of this classifier:\n",
    "* Collect lots of data.\n",
    "* Develop sophisticated features.\n",
    "* Develop algorithms to process the input in different ways."
   ]
  },
  {
   "cell_type": "markdown",
   "metadata": {},
   "source": [
    "## Error Analysis\n",
    "\n",
    "* Start with a simple algorithm, implement it quickly, and test it early on the cross validation data.\n",
    "* Plot learning curves to decide if more data, more features, etc. are likely to help.\n",
    "* Manually examine the errors on examples in the cross validation set and try to spot a trend where most of the errors were made."
   ]
  },
  {
   "cell_type": "markdown",
   "metadata": {},
   "source": [
    "## Precision/Recall\n",
    "\n",
    "|             |       | Actual class   |\n",
    "|:----------: |:-----:|:--------------:|:--------------:|\n",
    "|             |       | 1              | 0              |\n",
    "| Predicted   | 1     | True positve   | False positive |\n",
    "| class       | 0     | False negative | True negative  |\n",
    "\n",
    "* Precision: $\\frac{True-positive}{Predicted-positive} = \\frac{True-positive}{True-positive + False-positive}$.\n",
    "* Recall: $\\frac{True-positive}{Actual-positive} = \\frac{True-positive}{True-positive + False-negative}$.\n",
    "\n",
    "\n",
    "**Trading off precision**:\n",
    "* logistic regression: $0 \\leq h_{\\Theta}(x) \\leq 1$.\n",
    "* predict 1 if $h_{\\Theta} \\geq threshold$.\n",
    "* predict 0 if $h_{\\Theta} < threshold$.\n",
    "* if increase threshold, higher precision, lower recall.\n",
    "* if decrease threshold, lower precision, higher recall.\n",
    "\n",
    "**How to compare precision/recall numbers?**: F1 score $2 * \\frac{PR}{P + R}$."
   ]
  },
  {
   "cell_type": "markdown",
   "metadata": {},
   "source": [
    "## Large data rationale\n",
    "\n",
    "* use a learning algorithm with many parameters $\\Rightarrow$ low bias algorithm, $J_{train}(\\Theta)$ will be small.\n",
    "* use a ver large training set $\\Rightarrow$ $J_{train}{\\Theta} \\approx J_{test}(\\Theta)$.\n",
    "* both of them $\\Rightarrow$ $J_{test}(\\Theta)$ will be small."
   ]
  }
 ],
 "metadata": {
  "kernelspec": {
   "display_name": "Python 3",
   "language": "python",
   "name": "python3"
  },
  "language_info": {
   "codemirror_mode": {
    "name": "ipython",
    "version": 3
   },
   "file_extension": ".py",
   "mimetype": "text/x-python",
   "name": "python",
   "nbconvert_exporter": "python",
   "pygments_lexer": "ipython3",
   "version": "3.6.2"
  }
 },
 "nbformat": 4,
 "nbformat_minor": 2
}
