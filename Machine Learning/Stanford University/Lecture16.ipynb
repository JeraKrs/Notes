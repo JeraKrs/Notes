{
 "cells": [
  {
   "cell_type": "markdown",
   "metadata": {},
   "source": [
    "# Lecture16 Large Scale Machine Learning\n",
    "\n",
    "## Gradient Descent with Large Datasets\n",
    "\n",
    "**Choosing the size of data set**: plot a learning curve for a range of values of m and verify that the algorithm has high variance when $m$ is small.\n",
    "\n",
    "**Gradient descent**:\n",
    "* Batch gradient descent: use all $m$ examples in each iteration.\n",
    "* Stochastic gradient descent: use 1 example in each iteration.\n",
    "* Mini-batch gradient descent: use $b$ examples in each iteration.\n",
    "\n",
    "**Stochastic gradient descent**:\n",
    "1. Randomly shuffle(reorder) training examples.\n",
    "2. Repeat\n",
    "\n",
    "``` octave\n",
    "for i:=1,...m {\n",
    "    theta(j) := theta(j) - alpha * (h(theta, x(i)) - y(i)) * x(i,j);\n",
    "}\n",
    "```\n",
    "\n",
    "**Mini-batch gradient descent**:\n",
    "1. Say $b = 10, m = 1000$.\n",
    "2. Repeat\n",
    "\n",
    "``` octave\n",
    "for i:=1,11,21,31,...991 {\n",
    "    theta(j) := theta(j) - alpha / 10 * sum(h(theta, x(k)) - y(k) * x(k,j)); # where k from i to i+9\n",
    "}\n",
    "```\n",
    "\n",
    "\n",
    "**Checking for convergence**: learning rate $\\alpha$ is typically held constant. Can slowly decrease $\\alpha$ over time, eg $\\alpha = \\frac{const1}{iterationNumber + const2}$."
   ]
  },
  {
   "cell_type": "markdown",
   "metadata": {},
   "source": [
    "## Online learning\n",
    "\n",
    "**Algorithm**:\n",
    "\n",
    "``` octave\n",
    "Repeat forever {\n",
    "    get (x, y) coresponding to user.\n",
    "    \n",
    "    update Theta using (x, y).\n",
    "}\n",
    "```"
   ]
  },
  {
   "cell_type": "markdown",
   "metadata": {},
   "source": [
    "## Map Reduce\n",
    "\n",
    "Many learning algorithms can be expressed as computing sums of functions over the training set, which can distribute the computation task to multiple machines."
   ]
  }
 ],
 "metadata": {
  "kernelspec": {
   "display_name": "Python 3",
   "language": "python",
   "name": "python3"
  },
  "language_info": {
   "codemirror_mode": {
    "name": "ipython",
    "version": 3
   },
   "file_extension": ".py",
   "mimetype": "text/x-python",
   "name": "python",
   "nbconvert_exporter": "python",
   "pygments_lexer": "ipython3",
   "version": "3.6.2"
  }
 },
 "nbformat": 4,
 "nbformat_minor": 2
}
