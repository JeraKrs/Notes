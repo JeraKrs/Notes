{
 "cells": [
  {
   "cell_type": "markdown",
   "metadata": {},
   "source": [
    "# Lecture15 Recommender Systems\n",
    "\n",
    "**Example: Predicting movie ratings**:\n",
    "* $n_{\\mu} =$ number of users.\n",
    "* $n_m =$ number of movies.\n",
    "* $m^{(j)} =$ number of movies rated by user $j$.\n",
    "* $r(i,j) =$ 1 if user $j$ has rated movie $i$.\n",
    "* $y^{(i,j)} =$ rating given by user $j$ to movie $i$.\n",
    "* $\\theta^{(j)} =$ parameter vector for user $j$.\n",
    "* $x^{(i)} =$ feature vector for movie $i$.\n",
    "\n",
    "For user $j$, movie $i$, predicted rating: $(\\theta^{(j)})^T(x^{(i)})$\n",
    "\n",
    "Given $X$, to learn $\\Theta$:\n",
    "$min_{\\Theta} J(\\theta^{(1)}, \\dots, \\theta^{(n_u)})$\n",
    "\n",
    "$$J(\\theta^{(1)}, \\dots, \\theta^{(n_u)}) = \\frac{1}{2} \\sum_{j=1}^{n_u} \\sum_{i:r(i,j)=1} \\left( (\\theta^{(j)})^T x^{(i)} - y^{(i,j)}\\right)^2 + \\frac{\\lambda}{2}\\sum^{n_u}_{j=1}\\sum^{n}_{k=1}(\\theta_k^{(j)})^2$$\n",
    "\n",
    "Given $\\Theta$, to learn $X$: $min_{\\Theta} J(x^{(1)}, \\dots, x^{(n_m)})$\n",
    "\n",
    "$$J(x^{(1)}, \\dots, x^{(n_m)}) = \\frac{1}{2} \\sum_{j=1}^{n_m} \\sum_{i:r(i,j)=1} \\left( (\\theta^{(j)})^T x^{(i)} - y^{(i,j)}\\right)^2 + \\frac{\\lambda}{2}\\sum^{n_m}_{j=1}\\sum^{n}_{k=1}(x_k^{(j)})^2$$"
   ]
  },
  {
   "cell_type": "markdown",
   "metadata": {},
   "source": [
    "## Collaborative filtering algorithm\n",
    "\n",
    "Minimizing $x^{(1)}, \\dots, x^{n_m}$ and $\\theta^{(1)}, \\dots, \\theta^{(n_u)}$ simultaneously:\n",
    "\n",
    "$$J(X, \\Theta) = \\frac{1}{2} \\sum_{(i,j):r(i,j)=1}\\left( (\\theta^{(j)})^T x^{(i)} - y^{(i,j)} \\right)^2 + \\frac{\\lambda}{2}\\sum^{n_m}_{j=1}\\sum^{n}_{k=1}(x_k^{(j)})^2 + \\frac{\\lambda}{2}\\sum^{n_u}_{i=1}\\sum^{n}_{k=1}(\\theta_k^{(i)})^2$$\n",
    "\n",
    "1. Initialize $x^{(1)}, \\dots, x^{(n_m)}, \\theta^{(1)}, \\dots, \\theta^{(n_u)}$ to small random values.\n",
    "2. Minimize $J(x^{(1)}, \\dots, x^{(n_m)}, \\theta^{(1)}, \\dots, \\theta^{(n_u)})$ usinggradient\n",
    "descent (or an advanced op4mization algorithm)\n",
    "    * $x_k^{(i)} := x_k^{(i)} - \\alpha \\left( \\sum_{i:r(i,j)=1} ((\\theta^{(j)})^Tx^{(i)} - y^{(i,j)}) \\theta^{(j)}_k + \\lambda x_k^{(i)} \\right)$\n",
    "    * $\\theta_k^{(j)} := \\theta_k^{(j)} - \\alpha \\left( \\sum_{j:r(i,j)=1} ((\\theta^{(j)})^Tx^{(i)} - y^{(i,j)}) x^{(i)}_k + \\lambda \\theta_k^{(j)} \\right)$\n",
    "3. For a user with parameters $\\Theta$ and a movie with features $x$, predict a star rating of $\\Theta^T X$.\n",
    "\n",
    "**Mean normalization**: Users who have not rated any movies,\n",
    "* For user $j$, on movie $i$ predict: $(\\theta^{(j)})^T(x^{(i)}) + \\mu_i$."
   ]
  }
 ],
 "metadata": {
  "kernelspec": {
   "display_name": "Python 3",
   "language": "python",
   "name": "python3"
  },
  "language_info": {
   "codemirror_mode": {
    "name": "ipython",
    "version": 3
   },
   "file_extension": ".py",
   "mimetype": "text/x-python",
   "name": "python",
   "nbconvert_exporter": "python",
   "pygments_lexer": "ipython3",
   "version": "3.6.2"
  }
 },
 "nbformat": 4,
 "nbformat_minor": 2
}
