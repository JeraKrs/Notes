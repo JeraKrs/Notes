{
 "cells": [
  {
   "cell_type": "markdown",
   "metadata": {},
   "source": [
    "# Lecture13 Dimensionality Reduction\n",
    "\n",
    "## Principla Component Analysis\n",
    "\n",
    "**Dimensionality Reduction**: Data compression and visualization.\n",
    "\n",
    "**Principal component analysis**: Reduce from n-dimension to k-dimension, find k directions (k vectors) onto which to project the data so as to minimize the projection error.\n",
    "\n",
    "**PCA Algorithm**:  reduce data from n-dimension to k-dimension\n",
    "* Compute \"convariance matrix\": $\\Sigma = \\frac{1}{m} \\sum^n_{i=1}(x^{(i)})(x^{(i)})^T$.\n",
    "* Compute \"eigenvectors\" of matrix $\\Sigma$: $[U, S, V] = svd(Sigma);$.\n",
    "* Choise the project matrix: $Ureduce = U(:,1:k);$.\n",
    "* Project all data $z = Ureduce' * x$.\n",
    "\n",
    "**Reconstruction from compressed representation**: $\\underset{R^n}{X_{approx}} = \\underset{n \\times k}{U_{reduce}} \\times \\underset{k \\times 1}{z}$.\n",
    "\n",
    "**Choosing k**\n",
    "* Average squared projection error: $\\frac{1}{m}\\sum^m_{i=1} ||x^{(i)} - x^{(i)}_{approx}||^2$.\n",
    "* Total variance in the data: $\\frac{1}{m}\\sum^m_{i=1}||x^{(i)}||^2$.\n",
    "* Typically, choose k to be smallest value so that $\\frac{\\frac{1}{m}\\sum^m_{i=1} ||x^{(i)} - x^{(i)}_{approx}||^2}{\\frac{1}{m}\\sum^m_{i=1}||x^{(i)}||^2} \\leq 0.01$.\n",
    "\n",
    "> [U, S, V] = svd(Sigma);\n",
    ">\n",
    "> $S = \\begin{bmatrix} S_{11} & 0 & \\dots & 0 \\\\ 0 & S_{22} & \\dots & 0 \\\\  \\vdots & \\vdots & \\ddots & \\vdots \\\\ 0 & 0 & \\dots & S_{nn}\\end{bmatrix}$\n",
    "> \n",
    "> for given k: $\\frac{\\frac{1}{m}\\sum^m_{i=1} ||x^{(i)} - x^{(i)}_{approx}||^2}{\\frac{1}{m}\\sum^m_{i=1}||x^{(i)}||^2} = 1 - \\frac{\\sum^k_{i=1}S_{ii}}{\\sum^n_{i=1}S_{ii}}$"
   ]
  },
  {
   "cell_type": "markdown",
   "metadata": {},
   "source": [
    "## Application of PCA\n",
    "\n",
    "* Compression:\n",
    "    * reduce memory/disk needed to store data.\n",
    "    * speed up learning algorithm.\n",
    "* Visulization.\n",
    "\n",
    "Before implementing PCA, first try running whatever you want to do with the original/raw data. Only if that doesn't do what you want, then implement PCA."
   ]
  }
 ],
 "metadata": {
  "kernelspec": {
   "display_name": "Python 3",
   "language": "python",
   "name": "python3"
  },
  "language_info": {
   "codemirror_mode": {
    "name": "ipython",
    "version": 3
   },
   "file_extension": ".py",
   "mimetype": "text/x-python",
   "name": "python",
   "nbconvert_exporter": "python",
   "pygments_lexer": "ipython3",
   "version": "3.6.2"
  }
 },
 "nbformat": 4,
 "nbformat_minor": 2
}
